{
  "cells": [
    {
      "cell_type": "markdown",
      "metadata": {
        "id": "-KZPrRE123LS"
      },
      "source": [
        "# **🔥 The Ultimate PyTorch Course: From Beginner to Mastery 🚀**  \n",
        "\n",
        "## **📌 Course Overview**  \n",
        "This comprehensive course will take you from a complete beginner to an advanced PyTorch practitioner. By the end of this course, you’ll be able to build, train, and deploy deep learning models efficiently using PyTorch.  \n",
        "\n",
        "### **📖 Course Structure:**  \n",
        "✅ **Module 1**: Introduction to PyTorch  \n",
        "✅ **Module 2**: Understanding Tensors and Operations  \n",
        "✅ **Module 3**: Automatic Differentiation with `torch.autograd`  \n",
        "✅ **Module 4**: Building Neural Networks with `torch.nn`  \n",
        "✅ **Module 5**: Optimization and Training Deep Learning Models (`torch.optim`)  \n",
        "✅ **Module 6**: Data Handling with `torch.utils.data` and `torchvision`  \n",
        "✅ **Module 7**: Convolutional Neural Networks (CNNs)  \n",
        "✅ **Module 8**: Recurrent Neural Networks (RNNs, LSTMs, GRUs)  \n",
        "✅ **Module 9**: Transfer Learning and Pretrained Models  \n",
        "✅ **Module 10**: Training on GPUs and Multi-GPU Processing  \n",
        "✅ **Module 11**: Model Deployment (`torch.jit`, `torch.onnx`)  \n",
        "✅ **Module 12**: Advanced PyTorch Techniques (Mixed Precision, Distributed Training)  \n",
        "✅ **Capstone Project**: Full Deep Learning Pipeline from Scratch  \n",
        "\n",
        "---\n"
      ]
    },
    {
      "cell_type": "markdown",
      "metadata": {
        "id": "EuAtYT75_D8v"
      },
      "source": [
        "\n",
        "\n",
        "## **📌 Module 1: Introduction to PyTorch**  \n",
        "### **What is PyTorch?**  \n",
        "PyTorch is an open-source deep learning framework developed by Facebook AI. It provides a flexible, Pythonic way to build and train machine learning models using **dynamic computation graphs**.  \n",
        "\n",
        "### **Why Use PyTorch?**  \n",
        "- **Easy to Learn**: Similar to NumPy, with strong GPU acceleration.  \n",
        "- **Dynamic Computation Graphs**: Unlike TensorFlow (static graphs), PyTorch allows easy debugging.  \n",
        "- **Strong Community & Pre-trained Models**: Many research papers use PyTorch.  \n",
        "\n",
        "### **Key Concepts**  \n",
        "✅ Tensors (like NumPy arrays but optimized for GPUs).  \n",
        "✅ Autograd (automatic differentiation for backpropagation).  \n",
        "✅ Modules (pre-built layers to construct deep learning models).  \n",
        "✅ Optimizers (SGD, Adam, etc., for model training).  "
      ]
    },
    {
      "cell_type": "markdown",
      "metadata": {
        "id": "Ssr0HSqs3Egn"
      },
      "source": [
        "\n",
        "### **📝 Example:**  "
      ]
    },
    {
      "cell_type": "code",
      "execution_count": 1,
      "metadata": {
        "colab": {
          "base_uri": "https://localhost:8080/"
        },
        "id": "menrgmmuFmJB",
        "outputId": "cba1283c-eb71-4fee-8da2-a13d1b106e52"
      },
      "outputs": [
        {
          "name": "stdout",
          "output_type": "stream",
          "text": [
            "\u001b[2K   \u001b[90m━━━━━━━━━━━━━━━━━━━━━━━━━━━━━━━━━━━━━━━━\u001b[0m \u001b[32m363.4/363.4 MB\u001b[0m \u001b[31m4.0 MB/s\u001b[0m eta \u001b[36m0:00:00\u001b[0m\n",
            "\u001b[2K   \u001b[90m━━━━━━━━━━━━━━━━━━━━━━━━━━━━━━━━━━━━━━━━\u001b[0m \u001b[32m13.8/13.8 MB\u001b[0m \u001b[31m25.1 MB/s\u001b[0m eta \u001b[36m0:00:00\u001b[0m\n",
            "\u001b[2K   \u001b[90m━━━━━━━━━━━━━━━━━━━━━━━━━━━━━━━━━━━━━━━━\u001b[0m \u001b[32m24.6/24.6 MB\u001b[0m \u001b[31m24.9 MB/s\u001b[0m eta \u001b[36m0:00:00\u001b[0m\n",
            "\u001b[2K   \u001b[90m━━━━━━━━━━━━━━━━━━━━━━━━━━━━━━━━━━━━━━━━\u001b[0m \u001b[32m883.7/883.7 kB\u001b[0m \u001b[31m18.2 MB/s\u001b[0m eta \u001b[36m0:00:00\u001b[0m\n",
            "\u001b[2K   \u001b[90m━━━━━━━━━━━━━━━━━━━━━━━━━━━━━━━━━━━━━━━━\u001b[0m \u001b[32m664.8/664.8 MB\u001b[0m \u001b[31m1.9 MB/s\u001b[0m eta \u001b[36m0:00:00\u001b[0m\n",
            "\u001b[2K   \u001b[90m━━━━━━━━━━━━━━━━━━━━━━━━━━━━━━━━━━━━━━━━\u001b[0m \u001b[32m211.5/211.5 MB\u001b[0m \u001b[31m6.0 MB/s\u001b[0m eta \u001b[36m0:00:00\u001b[0m\n",
            "\u001b[2K   \u001b[90m━━━━━━━━━━━━━━━━━━━━━━━━━━━━━━━━━━━━━━━━\u001b[0m \u001b[32m56.3/56.3 MB\u001b[0m \u001b[31m11.8 MB/s\u001b[0m eta \u001b[36m0:00:00\u001b[0m\n",
            "\u001b[2K   \u001b[90m━━━━━━━━━━━━━━━━━━━━━━━━━━━━━━━━━━━━━━━━\u001b[0m \u001b[32m127.9/127.9 MB\u001b[0m \u001b[31m7.8 MB/s\u001b[0m eta \u001b[36m0:00:00\u001b[0m\n",
            "\u001b[2K   \u001b[90m━━━━━━━━━━━━━━━━━━━━━━━━━━━━━━━━━━━━━━━━\u001b[0m \u001b[32m207.5/207.5 MB\u001b[0m \u001b[31m5.6 MB/s\u001b[0m eta \u001b[36m0:00:00\u001b[0m\n",
            "\u001b[2K   \u001b[90m━━━━━━━━━━━━━━━━━━━━━━━━━━━━━━━━━━━━━━━━\u001b[0m \u001b[32m21.1/21.1 MB\u001b[0m \u001b[31m51.0 MB/s\u001b[0m eta \u001b[36m0:00:00\u001b[0m\n",
            "\u001b[?25h"
          ]
        }
      ],
      "source": [
        "!pip install torch torchvision torchaudio -q"
      ]
    },
    {
      "cell_type": "code",
      "execution_count": 2,
      "metadata": {
        "colab": {
          "base_uri": "https://localhost:8080/"
        },
        "id": "PqrudtGU3Iz4",
        "outputId": "553e73d9-7c31-4ebb-f93a-8e61bc28150e"
      },
      "outputs": [
        {
          "name": "stdout",
          "output_type": "stream",
          "text": [
            "PyTorch Version: 2.6.0+cu124\n",
            "GPU Available: False\n"
          ]
        }
      ],
      "source": [
        "import torch\n",
        "\n",
        "# Checking if GPU is available\n",
        "print(f\"PyTorch Version: {torch.__version__}\")\n",
        "print(f\"GPU Available: {torch.cuda.is_available()}\")"
      ]
    },
    {
      "cell_type": "markdown",
      "metadata": {
        "id": "MD5e8MQn_4Fd"
      },
      "source": [
        "---\n",
        "\n",
        "## **📌 Module 2: PyTorch Tensors and Operations**  \n",
        "### **What are Tensors?**  \n",
        "A **tensor** is a multi-dimensional array, similar to NumPy arrays but with GPU acceleration.  \n",
        "\n",
        "### **Common Operations**  \n",
        "- **Creating Tensors:** `torch.tensor()`, `torch.rand()`, `torch.zeros()`.  \n",
        "- **Reshaping Tensors:** `view()`, `reshape()`.  \n",
        "- **Mathematical Operations:** `+`, `-`, `*`, `@` (matrix multiplication).  \n",
        "- **Moving Tensors to GPU:** `tensor.to(device)`.  "
      ]
    },
    {
      "cell_type": "markdown",
      "metadata": {
        "id": "6gewtrc-3M7f"
      },
      "source": [
        "\n",
        "\n",
        "### **📝 Example:**  "
      ]
    },
    {
      "cell_type": "code",
      "execution_count": null,
      "metadata": {
        "colab": {
          "base_uri": "https://localhost:8080/"
        },
        "id": "r5BF2Y8D3QQn",
        "outputId": "14c038a8-a819-4047-ec59-ba27742f8cbe"
      },
      "outputs": [
        {
          "name": "stdout",
          "output_type": "stream",
          "text": [
            "tensor([[1.2449, 2.5998],\n",
            "        [3.6207, 4.5876]])\n",
            "tensor([1.2449, 2.5998, 3.6207, 4.5876])\n"
          ]
        }
      ],
      "source": [
        "x = torch.tensor([[1, 2], [3, 4]])\n",
        "y = torch.rand(2, 2)\n",
        "\n",
        "# Operations\n",
        "z = x + y\n",
        "print(z)\n",
        "\n",
        "# Reshaping\n",
        "z_reshaped = z.view(-1)\n",
        "print(z_reshaped)"
      ]
    },
    {
      "cell_type": "markdown",
      "metadata": {
        "id": "_M9eS3F1AZJE"
      },
      "source": [
        "---\n",
        "\n",
        "## **📌 Module 3: Automatic Differentiation with `torch.autograd`**  \n",
        "### **Why is Autograd Important?**  \n",
        "Deep learning models rely on **gradient descent**, which requires computing gradients (derivatives). PyTorch's `autograd` automatically computes these gradients.  \n",
        "\n",
        "### **How Does It Work?**  \n",
        "1. PyTorch tracks tensor operations.  \n",
        "2. When calling `.backward()`, it calculates gradients.  \n",
        "3. These gradients update model weights using an optimizer.  "
      ]
    },
    {
      "cell_type": "markdown",
      "metadata": {
        "id": "Tg9KVx6W4DcW"
      },
      "source": [
        "\n",
        "\n",
        "### **📝 Example:**  "
      ]
    },
    {
      "cell_type": "code",
      "execution_count": null,
      "metadata": {
        "colab": {
          "base_uri": "https://localhost:8080/"
        },
        "id": "QQfCVlNM4FsW",
        "outputId": "3e7feb31-8d46-4efc-dbd6-b80f0b3d28f6"
      },
      "outputs": [
        {
          "name": "stdout",
          "output_type": "stream",
          "text": [
            "tensor([0.6667, 0.6667, 0.6667])\n"
          ]
        }
      ],
      "source": [
        "x = torch.randn(3, requires_grad=True)\n",
        "y = x * 2\n",
        "z = y.mean()\n",
        "z.backward()  # Compute gradients\n",
        "print(x.grad)  # Gradient of x\n"
      ]
    },
    {
      "cell_type": "markdown",
      "metadata": {
        "id": "eve1o_m3_TDW"
      },
      "source": [
        "Let's break down the computation step by step for your example:\n",
        "\n",
        "\n",
        "### **Step-by-Step Breakdown:**\n",
        "\n",
        "1. **`x = torch.randn(3, requires_grad=True)`**\n",
        "   - `x` is a **tensor with 3 elements** (random values).\n",
        "   - `requires_grad=True` means PyTorch will track computations involving `x` for automatic differentiation.\n",
        "\n",
        "2. **`y = x * 2`**\n",
        "   - Each element of `x` is multiplied by `2`.  \n",
        "   - Since `x` requires gradients, `y` will also have a computation history.\n",
        "\n",
        "3. **`z = y.mean()`**\n",
        "   - `z` is the **mean** (average) of all elements in `y`.\n",
        "   - Mathematically:  \n",
        "     \\[\n",
        "     z = \\frac{(2x_1 + 2x_2 + 2x_3)}{3}\n",
        "     \\]\n",
        "\n",
        "4. **`z.backward()`**\n",
        "   - Computes **the gradient of `z` with respect to `x`** using automatic differentiation.\n",
        "\n",
        "### **Gradient Calculation:**\n",
        "Let's calculate the gradient **∂z/∂x** manually.\n",
        "\n",
        "Since:\n",
        "$$\n",
        "z = \\frac{1}{3} \\sum (2x_i)\n",
        "$$\n",
        "The derivative with respect to `x_i`:\n",
        "$$\n",
        "\\frac{\\partial z}{\\partial x_i} = \\frac{2}{3}\n",
        "$$\n",
        "\n",
        "So, after calling `z.backward()`, the gradient stored in `x.grad` will be:\n",
        "```python\n",
        "tensor([2/3, 2/3, 2/3])  # Approx. tensor([0.6667, 0.6667, 0.6667])\n",
        "```\n",
        "\n",
        "### **Key Takeaways:**\n",
        "1. **`.backward()` computes the gradient** of `z` with respect to `x`.\n",
        "2. **`x.grad` stores the computed gradient** (`2/3` for each element of `x`).\n",
        "3. **Why `2/3`?** Because each `x_i` contributes equally to `z`, and the mean operation distributes the factor.\n",
        "\n"
      ]
    },
    {
      "cell_type": "markdown",
      "metadata": {
        "id": "1NlisoD7BINC"
      },
      "source": [
        "---\n",
        "\n",
        "## **📌 Module 4: Building Neural Networks with `torch.nn`**  \n",
        "### **What is `torch.nn`?**  \n",
        "A module that helps build deep learning models with layers like:  \n",
        "- `nn.Linear()`: Fully connected layers.  \n",
        "- `nn.ReLU()`: Activation functions.  \n",
        "- `nn.Conv2d()`: Convolutional layers for image processing.  \n",
        "- `nn.LSTM()`: Recurrent layers for sequential data.  \n",
        "\n",
        "### **How to Build a Neural Network?**  \n",
        "1. Create a class that extends `nn.Module`.  \n",
        "2. Define layers inside `__init__()`.  \n",
        "3. Implement the forward pass in `forward()`.  "
      ]
    },
    {
      "cell_type": "markdown",
      "metadata": {
        "id": "5wpltwJc46OM"
      },
      "source": [
        "\n",
        "\n",
        "### **📝 Example:**"
      ]
    },
    {
      "cell_type": "code",
      "execution_count": null,
      "metadata": {
        "colab": {
          "base_uri": "https://localhost:8080/"
        },
        "id": "8kW32-BG483U",
        "outputId": "1a985a75-de54-4ac3-ea66-e65932877aa6"
      },
      "outputs": [
        {
          "name": "stdout",
          "output_type": "stream",
          "text": [
            "SimpleNN(\n",
            "  (fc1): Linear(in_features=10, out_features=5, bias=True)\n",
            "  (fc2): Linear(in_features=5, out_features=1, bias=True)\n",
            ")\n"
          ]
        }
      ],
      "source": [
        "import torch.nn as nn\n",
        "\n",
        "class SimpleNN(nn.Module):\n",
        "    def __init__(self):\n",
        "        super(SimpleNN, self).__init__()\n",
        "        self.fc1 = nn.Linear(10, 5)\n",
        "        self.fc2 = nn.Linear(5, 1)\n",
        "\n",
        "    def forward(self, x):\n",
        "        x = torch.relu(self.fc1(x))\n",
        "        x = torch.sigmoid(self.fc2(x))\n",
        "        return x\n",
        "\n",
        "model = SimpleNN()\n",
        "print(model)"
      ]
    },
    {
      "cell_type": "markdown",
      "metadata": {
        "id": "s99JUGCO557B"
      },
      "source": [
        "---\n",
        "\n",
        "## **📌 Module 5: Optimization and Training (`torch.optim`)**  \n",
        "### **Why Do We Need an Optimizer?**  \n",
        "Optimizers adjust the model’s parameters to minimize the **loss function**, which measures prediction errors.  \n",
        "\n",
        "### **Common Optimizers in PyTorch**  \n",
        "- `SGD`: Stochastic Gradient Descent (simple but slow).  \n",
        "- `Adam`: Adaptive learning rate adjustment (widely used).  \n",
        "\n",
        "### **Training Process**  \n",
        "1. Compute predictions.  \n",
        "2. Calculate the loss.  \n",
        "3. Zero out previous gradients (`optimizer.zero_grad()`).  \n",
        "4. Compute gradients (`loss.backward()`).  \n",
        "5. Update parameters (`optimizer.step()`).\n",
        "\n",
        "### **📝 Example:**"
      ]
    },
    {
      "cell_type": "code",
      "execution_count": null,
      "metadata": {
        "colab": {
          "base_uri": "https://localhost:8080/"
        },
        "id": "1xA-qdgc58cZ",
        "outputId": "2cb7077e-8278-400a-fafe-563a40cc7422"
      },
      "outputs": [
        {
          "name": "stdout",
          "output_type": "stream",
          "text": [
            "Epoch 0, Loss: 0.1138274073600769\n",
            "Epoch 1, Loss: 0.1120259165763855\n",
            "Epoch 2, Loss: 0.1104021891951561\n",
            "Epoch 3, Loss: 0.10889476537704468\n",
            "Epoch 4, Loss: 0.10753609985113144\n",
            "Epoch 5, Loss: 0.10642202198505402\n",
            "Epoch 6, Loss: 0.10536804050207138\n",
            "Epoch 7, Loss: 0.10438404232263565\n",
            "Epoch 8, Loss: 0.10342296212911606\n",
            "Epoch 9, Loss: 0.10247626155614853\n",
            "Epoch 10, Loss: 0.10152123123407364\n",
            "Epoch 11, Loss: 0.10054198652505875\n",
            "Epoch 12, Loss: 0.09952482581138611\n",
            "Epoch 13, Loss: 0.09847071766853333\n",
            "Epoch 14, Loss: 0.09744124114513397\n",
            "Epoch 15, Loss: 0.09634604305028915\n",
            "Epoch 16, Loss: 0.09523292630910873\n",
            "Epoch 17, Loss: 0.09408017247915268\n",
            "Epoch 18, Loss: 0.09287291020154953\n",
            "Epoch 19, Loss: 0.09161330759525299\n",
            "Epoch 20, Loss: 0.09030691534280777\n",
            "Epoch 21, Loss: 0.08900134265422821\n",
            "Epoch 22, Loss: 0.0876036211848259\n",
            "Epoch 23, Loss: 0.08622550964355469\n",
            "Epoch 24, Loss: 0.08490285277366638\n",
            "Epoch 25, Loss: 0.0835265964269638\n",
            "Epoch 26, Loss: 0.08212493360042572\n",
            "Epoch 27, Loss: 0.08076349645853043\n",
            "Epoch 28, Loss: 0.0794004499912262\n",
            "Epoch 29, Loss: 0.07816502451896667\n",
            "Epoch 30, Loss: 0.07700012624263763\n",
            "Epoch 31, Loss: 0.07573404908180237\n",
            "Epoch 32, Loss: 0.07439034432172775\n",
            "Epoch 33, Loss: 0.07306072860956192\n",
            "Epoch 34, Loss: 0.07173628360033035\n",
            "Epoch 35, Loss: 0.07055588066577911\n",
            "Epoch 36, Loss: 0.06941159069538116\n",
            "Epoch 37, Loss: 0.06829164922237396\n",
            "Epoch 38, Loss: 0.06724799424409866\n",
            "Epoch 39, Loss: 0.06617139279842377\n",
            "Epoch 40, Loss: 0.06509467959403992\n",
            "Epoch 41, Loss: 0.06410224735736847\n",
            "Epoch 42, Loss: 0.0631648451089859\n",
            "Epoch 43, Loss: 0.062242962419986725\n",
            "Epoch 44, Loss: 0.0613865964114666\n",
            "Epoch 45, Loss: 0.060605358332395554\n",
            "Epoch 46, Loss: 0.05983540415763855\n",
            "Epoch 47, Loss: 0.05909466743469238\n",
            "Epoch 48, Loss: 0.05840424820780754\n",
            "Epoch 49, Loss: 0.05774948000907898\n",
            "Epoch 50, Loss: 0.057171743363142014\n",
            "Epoch 51, Loss: 0.05657324939966202\n",
            "Epoch 52, Loss: 0.056003015488386154\n",
            "Epoch 53, Loss: 0.055446624755859375\n",
            "Epoch 54, Loss: 0.054903119802474976\n",
            "Epoch 55, Loss: 0.054418373852968216\n",
            "Epoch 56, Loss: 0.05389142036437988\n",
            "Epoch 57, Loss: 0.053475767374038696\n",
            "Epoch 58, Loss: 0.05300423502922058\n",
            "Epoch 59, Loss: 0.052488189190626144\n",
            "Epoch 60, Loss: 0.05205380916595459\n",
            "Epoch 61, Loss: 0.05158192664384842\n",
            "Epoch 62, Loss: 0.05113443732261658\n",
            "Epoch 63, Loss: 0.05068131536245346\n",
            "Epoch 64, Loss: 0.050264231860637665\n",
            "Epoch 65, Loss: 0.04980537295341492\n",
            "Epoch 66, Loss: 0.049343593418598175\n",
            "Epoch 67, Loss: 0.04890335351228714\n",
            "Epoch 68, Loss: 0.048512253910303116\n",
            "Epoch 69, Loss: 0.04801622033119202\n",
            "Epoch 70, Loss: 0.047605641186237335\n",
            "Epoch 71, Loss: 0.04718971624970436\n",
            "Epoch 72, Loss: 0.04672791436314583\n",
            "Epoch 73, Loss: 0.04627847298979759\n",
            "Epoch 74, Loss: 0.045850954949855804\n",
            "Epoch 75, Loss: 0.04547446221113205\n",
            "Epoch 76, Loss: 0.04499683529138565\n",
            "Epoch 77, Loss: 0.04457079619169235\n",
            "Epoch 78, Loss: 0.044204555451869965\n",
            "Epoch 79, Loss: 0.04380879923701286\n",
            "Epoch 80, Loss: 0.04337752237915993\n",
            "Epoch 81, Loss: 0.04292326420545578\n",
            "Epoch 82, Loss: 0.04252449795603752\n",
            "Epoch 83, Loss: 0.04212597757577896\n",
            "Epoch 84, Loss: 0.04176027327775955\n",
            "Epoch 85, Loss: 0.04133618623018265\n",
            "Epoch 86, Loss: 0.04100051894783974\n",
            "Epoch 87, Loss: 0.040654923766851425\n",
            "Epoch 88, Loss: 0.040275316685438156\n",
            "Epoch 89, Loss: 0.03986677527427673\n",
            "Epoch 90, Loss: 0.03948395326733589\n",
            "Epoch 91, Loss: 0.039134204387664795\n",
            "Epoch 92, Loss: 0.0387839637696743\n",
            "Epoch 93, Loss: 0.03843892365694046\n",
            "Epoch 94, Loss: 0.03810229152441025\n",
            "Epoch 95, Loss: 0.03776880353689194\n",
            "Epoch 96, Loss: 0.03742961585521698\n",
            "Epoch 97, Loss: 0.03710012882947922\n",
            "Epoch 98, Loss: 0.036772213876247406\n",
            "Epoch 99, Loss: 0.03644612058997154\n"
          ]
        }
      ],
      "source": [
        "optimizer = torch.optim.Adam(model.parameters(), lr=0.01)\n",
        "criterion = nn.MSELoss()\n",
        "\n",
        "inputs = torch.rand(10, 10)\n",
        "targets = torch.rand(10, 1)\n",
        "\n",
        "for epoch in range(100):\n",
        "    optimizer.zero_grad()\n",
        "    outputs = model(inputs)\n",
        "    loss = criterion(outputs, targets)\n",
        "    loss.backward()\n",
        "    optimizer.step()\n",
        "    print(f\"Epoch {epoch}, Loss: {loss.item()}\")"
      ]
    },
    {
      "cell_type": "markdown",
      "metadata": {
        "id": "01nY30cM814z"
      },
      "source": [
        "---\n",
        "\n",
        "## **📌 Module 6: Data Handling with `torch.utils.data` and `torchvision`**  \n",
        "### **Why is Data Handling Important?**  \n",
        "Real-world datasets are too large to fit in memory, so PyTorch provides **Dataloaders** for efficient data processing.  \n",
        "\n",
        "### **Key Components**  \n",
        "- **`Dataset`**: A class to store and preprocess data.  \n",
        "- **`DataLoader`**: Batches data for efficient training.  \n",
        "- **`torchvision.datasets`**: Pre-built datasets (e.g., MNIST, CIFAR-10).   \n",
        "\n",
        "### **✅ Example: Using `Dataset` and `DataLoader`**  "
      ]
    },
    {
      "cell_type": "code",
      "execution_count": null,
      "metadata": {
        "colab": {
          "base_uri": "https://localhost:8080/"
        },
        "id": "oD-bs2FF85Y8",
        "outputId": "b5b6640a-542b-4e61-a921-4dd0ba6d5b26"
      },
      "outputs": [
        {
          "name": "stdout",
          "output_type": "stream",
          "text": [
            "torch.Size([16, 10]) torch.Size([16, 1])\n"
          ]
        }
      ],
      "source": [
        "from torch.utils.data import DataLoader, TensorDataset\n",
        "import torch\n",
        "\n",
        "# Sample data\n",
        "data = torch.randn(100, 10)  # 100 samples, 10 features each\n",
        "labels = torch.randint(0, 2, (100, 1))  # Binary classification labels\n",
        "\n",
        "# Creating a dataset\n",
        "dataset = TensorDataset(data, labels)\n",
        "\n",
        "# Creating a DataLoader\n",
        "dataloader = DataLoader(dataset, batch_size=16, shuffle=True)\n",
        "\n",
        "for batch in dataloader:\n",
        "    x_batch, y_batch = batch\n",
        "    print(x_batch.shape, y_batch.shape)  # Output: (16, 10) (16, 1)\n",
        "    break"
      ]
    },
    {
      "cell_type": "markdown",
      "metadata": {
        "id": "CpQHq_fcB3-5"
      },
      "source": [
        "\n",
        "---\n",
        "\n",
        "## **📌 Module 7: Convolutional Neural Networks (CNNs)**  \n",
        "### **Why CNNs?**  \n",
        "CNNs are designed for image data, leveraging:  \n",
        "- **Convolutional Layers**: Extract image features.  \n",
        "- **Pooling Layers**: Reduce computation.  \n",
        "- **Fully Connected Layers**: Classify features.  \n",
        "\n",
        "### **CNN Architecture**  \n",
        "1. Input layer (image data).  \n",
        "2. Conv layer (feature extraction).  \n",
        "3. Pooling layer (downsampling).  \n",
        "4. Fully connected layer (final classification).  \n",
        "\n",
        "### **✅ Example: Implementing a CNN for Image Classification**  "
      ]
    },
    {
      "cell_type": "code",
      "execution_count": null,
      "metadata": {
        "colab": {
          "base_uri": "https://localhost:8080/"
        },
        "id": "--Z1oy1eB6kA",
        "outputId": "2fbd9b8d-d5b7-40f3-dc69-bf87cae8ab65"
      },
      "outputs": [
        {
          "name": "stdout",
          "output_type": "stream",
          "text": [
            "CNN(\n",
            "  (conv1): Conv2d(1, 16, kernel_size=(3, 3), stride=(1, 1), padding=(1, 1))\n",
            "  (pool): MaxPool2d(kernel_size=2, stride=2, padding=0, dilation=1, ceil_mode=False)\n",
            "  (conv2): Conv2d(16, 32, kernel_size=(3, 3), stride=(1, 1), padding=(1, 1))\n",
            "  (fc1): Linear(in_features=1568, out_features=128, bias=True)\n",
            "  (fc2): Linear(in_features=128, out_features=10, bias=True)\n",
            ")\n"
          ]
        }
      ],
      "source": [
        "import torch.nn as nn\n",
        "import torch\n",
        "\n",
        "class CNN(nn.Module):\n",
        "    def __init__(self):\n",
        "        super(CNN, self).__init__()\n",
        "        self.conv1 = nn.Conv2d(in_channels=1, out_channels=16, kernel_size=3, stride=1, padding=1)\n",
        "        self.pool = nn.MaxPool2d(kernel_size=2, stride=2)\n",
        "        self.conv2 = nn.Conv2d(16, 32, 3, 1, 1)\n",
        "        self.fc1 = nn.Linear(32 * 7 * 7, 128)\n",
        "        self.fc2 = nn.Linear(128, 10)  # 10 classes for MNIST\n",
        "\n",
        "    def forward(self, x):\n",
        "        x = self.pool(torch.relu(self.conv1(x)))\n",
        "        x = self.pool(torch.relu(self.conv2(x)))\n",
        "        x = x.view(-1, 32 * 7 * 7)\n",
        "        x = torch.relu(self.fc1(x))\n",
        "        x = self.fc2(x)\n",
        "        return x\n",
        "\n",
        "model = CNN()\n",
        "print(model)"
      ]
    },
    {
      "cell_type": "markdown",
      "metadata": {
        "id": "fJ8th6pmCLcg"
      },
      "source": [
        "---\n",
        "\n",
        "## **📌 Module 8: Recurrent Neural Networks (RNNs, LSTMs, GRUs)**  \n",
        "### **Why Use RNNs?**  \n",
        "Traditional neural networks don’t work well for sequential data like **text and time series**. RNNs **remember past inputs** using hidden states.  \n",
        "\n",
        "### **Types of RNNs**  \n",
        "- **Simple RNN**: Basic recurrent connections (prone to vanishing gradients).  \n",
        "- **LSTM (Long Short-Term Memory)**: Solves vanishing gradient issues by using gates.  \n",
        "- **GRU (Gated Recurrent Unit)**: A simpler version of LSTM.  \n",
        "\n",
        "### **Applications**  \n",
        "✅ Machine Translation  \n",
        "✅ Sentiment Analysis  \n",
        "✅ Speech Recognition  \n",
        "\n",
        "### **✅ Example: Implementing an LSTM for Sequence Prediction**"
      ]
    },
    {
      "cell_type": "code",
      "execution_count": null,
      "metadata": {
        "colab": {
          "base_uri": "https://localhost:8080/"
        },
        "id": "pPigGKXnCNg4",
        "outputId": "f4c7bec5-cae6-4c27-827d-283ad93774bc"
      },
      "outputs": [
        {
          "name": "stdout",
          "output_type": "stream",
          "text": [
            "SimpleLSTM(\n",
            "  (lstm): LSTM(10, 20, batch_first=True)\n",
            "  (fc): Linear(in_features=20, out_features=1, bias=True)\n",
            ")\n"
          ]
        }
      ],
      "source": [
        "class SimpleLSTM(nn.Module):\n",
        "    def __init__(self, input_size, hidden_size, output_size):\n",
        "        super(SimpleLSTM, self).__init__()\n",
        "        self.lstm = nn.LSTM(input_size, hidden_size, batch_first=True)\n",
        "        self.fc = nn.Linear(hidden_size, output_size)\n",
        "\n",
        "    def forward(self, x):\n",
        "        lstm_out, _ = self.lstm(x)\n",
        "        return self.fc(lstm_out[:, -1, :])  # Take output of last time step\n",
        "\n",
        "model = SimpleLSTM(input_size=10, hidden_size=20, output_size=1)\n",
        "print(model)"
      ]
    },
    {
      "cell_type": "markdown",
      "metadata": {
        "id": "m1DRrTiFCWeY"
      },
      "source": [
        "---\n",
        "\n",
        "## **📌 Module 9: Transfer Learning and Pretrained Models**  \n",
        "### **Why Transfer Learning?**  \n",
        "Instead of training from scratch, use **pretrained models** (e.g., ResNet, VGG) and fine-tune them for new tasks.  \n",
        "\n",
        "### **How Does It Work?**  \n",
        "1. Load a pretrained model (`models.resnet18(pretrained=True)`).  \n",
        "2. Replace the last layer to match your dataset (`resnet.fc = nn.Linear(...)`).  \n",
        "3. Fine-tune on new data.  \n",
        "\n",
        "### **✅ Example: Using a Pretrained ResNet Model**  "
      ]
    },
    {
      "cell_type": "code",
      "execution_count": null,
      "metadata": {
        "colab": {
          "base_uri": "https://localhost:8080/"
        },
        "id": "BxG4DAgvCY04",
        "outputId": "3aa8faa7-06b9-4515-f677-dd28438e13b0"
      },
      "outputs": [
        {
          "name": "stderr",
          "output_type": "stream",
          "text": [
            "/usr/local/lib/python3.11/dist-packages/torchvision/models/_utils.py:208: UserWarning: The parameter 'pretrained' is deprecated since 0.13 and may be removed in the future, please use 'weights' instead.\n",
            "  warnings.warn(\n",
            "/usr/local/lib/python3.11/dist-packages/torchvision/models/_utils.py:223: UserWarning: Arguments other than a weight enum or `None` for 'weights' are deprecated since 0.13 and may be removed in the future. The current behavior is equivalent to passing `weights=ResNet18_Weights.IMAGENET1K_V1`. You can also use `weights=ResNet18_Weights.DEFAULT` to get the most up-to-date weights.\n",
            "  warnings.warn(msg)\n",
            "Downloading: \"https://download.pytorch.org/models/resnet18-f37072fd.pth\" to /root/.cache/torch/hub/checkpoints/resnet18-f37072fd.pth\n",
            "100%|██████████| 44.7M/44.7M [00:00<00:00, 136MB/s]\n"
          ]
        },
        {
          "name": "stdout",
          "output_type": "stream",
          "text": [
            "ResNet(\n",
            "  (conv1): Conv2d(3, 64, kernel_size=(7, 7), stride=(2, 2), padding=(3, 3), bias=False)\n",
            "  (bn1): BatchNorm2d(64, eps=1e-05, momentum=0.1, affine=True, track_running_stats=True)\n",
            "  (relu): ReLU(inplace=True)\n",
            "  (maxpool): MaxPool2d(kernel_size=3, stride=2, padding=1, dilation=1, ceil_mode=False)\n",
            "  (layer1): Sequential(\n",
            "    (0): BasicBlock(\n",
            "      (conv1): Conv2d(64, 64, kernel_size=(3, 3), stride=(1, 1), padding=(1, 1), bias=False)\n",
            "      (bn1): BatchNorm2d(64, eps=1e-05, momentum=0.1, affine=True, track_running_stats=True)\n",
            "      (relu): ReLU(inplace=True)\n",
            "      (conv2): Conv2d(64, 64, kernel_size=(3, 3), stride=(1, 1), padding=(1, 1), bias=False)\n",
            "      (bn2): BatchNorm2d(64, eps=1e-05, momentum=0.1, affine=True, track_running_stats=True)\n",
            "    )\n",
            "    (1): BasicBlock(\n",
            "      (conv1): Conv2d(64, 64, kernel_size=(3, 3), stride=(1, 1), padding=(1, 1), bias=False)\n",
            "      (bn1): BatchNorm2d(64, eps=1e-05, momentum=0.1, affine=True, track_running_stats=True)\n",
            "      (relu): ReLU(inplace=True)\n",
            "      (conv2): Conv2d(64, 64, kernel_size=(3, 3), stride=(1, 1), padding=(1, 1), bias=False)\n",
            "      (bn2): BatchNorm2d(64, eps=1e-05, momentum=0.1, affine=True, track_running_stats=True)\n",
            "    )\n",
            "  )\n",
            "  (layer2): Sequential(\n",
            "    (0): BasicBlock(\n",
            "      (conv1): Conv2d(64, 128, kernel_size=(3, 3), stride=(2, 2), padding=(1, 1), bias=False)\n",
            "      (bn1): BatchNorm2d(128, eps=1e-05, momentum=0.1, affine=True, track_running_stats=True)\n",
            "      (relu): ReLU(inplace=True)\n",
            "      (conv2): Conv2d(128, 128, kernel_size=(3, 3), stride=(1, 1), padding=(1, 1), bias=False)\n",
            "      (bn2): BatchNorm2d(128, eps=1e-05, momentum=0.1, affine=True, track_running_stats=True)\n",
            "      (downsample): Sequential(\n",
            "        (0): Conv2d(64, 128, kernel_size=(1, 1), stride=(2, 2), bias=False)\n",
            "        (1): BatchNorm2d(128, eps=1e-05, momentum=0.1, affine=True, track_running_stats=True)\n",
            "      )\n",
            "    )\n",
            "    (1): BasicBlock(\n",
            "      (conv1): Conv2d(128, 128, kernel_size=(3, 3), stride=(1, 1), padding=(1, 1), bias=False)\n",
            "      (bn1): BatchNorm2d(128, eps=1e-05, momentum=0.1, affine=True, track_running_stats=True)\n",
            "      (relu): ReLU(inplace=True)\n",
            "      (conv2): Conv2d(128, 128, kernel_size=(3, 3), stride=(1, 1), padding=(1, 1), bias=False)\n",
            "      (bn2): BatchNorm2d(128, eps=1e-05, momentum=0.1, affine=True, track_running_stats=True)\n",
            "    )\n",
            "  )\n",
            "  (layer3): Sequential(\n",
            "    (0): BasicBlock(\n",
            "      (conv1): Conv2d(128, 256, kernel_size=(3, 3), stride=(2, 2), padding=(1, 1), bias=False)\n",
            "      (bn1): BatchNorm2d(256, eps=1e-05, momentum=0.1, affine=True, track_running_stats=True)\n",
            "      (relu): ReLU(inplace=True)\n",
            "      (conv2): Conv2d(256, 256, kernel_size=(3, 3), stride=(1, 1), padding=(1, 1), bias=False)\n",
            "      (bn2): BatchNorm2d(256, eps=1e-05, momentum=0.1, affine=True, track_running_stats=True)\n",
            "      (downsample): Sequential(\n",
            "        (0): Conv2d(128, 256, kernel_size=(1, 1), stride=(2, 2), bias=False)\n",
            "        (1): BatchNorm2d(256, eps=1e-05, momentum=0.1, affine=True, track_running_stats=True)\n",
            "      )\n",
            "    )\n",
            "    (1): BasicBlock(\n",
            "      (conv1): Conv2d(256, 256, kernel_size=(3, 3), stride=(1, 1), padding=(1, 1), bias=False)\n",
            "      (bn1): BatchNorm2d(256, eps=1e-05, momentum=0.1, affine=True, track_running_stats=True)\n",
            "      (relu): ReLU(inplace=True)\n",
            "      (conv2): Conv2d(256, 256, kernel_size=(3, 3), stride=(1, 1), padding=(1, 1), bias=False)\n",
            "      (bn2): BatchNorm2d(256, eps=1e-05, momentum=0.1, affine=True, track_running_stats=True)\n",
            "    )\n",
            "  )\n",
            "  (layer4): Sequential(\n",
            "    (0): BasicBlock(\n",
            "      (conv1): Conv2d(256, 512, kernel_size=(3, 3), stride=(2, 2), padding=(1, 1), bias=False)\n",
            "      (bn1): BatchNorm2d(512, eps=1e-05, momentum=0.1, affine=True, track_running_stats=True)\n",
            "      (relu): ReLU(inplace=True)\n",
            "      (conv2): Conv2d(512, 512, kernel_size=(3, 3), stride=(1, 1), padding=(1, 1), bias=False)\n",
            "      (bn2): BatchNorm2d(512, eps=1e-05, momentum=0.1, affine=True, track_running_stats=True)\n",
            "      (downsample): Sequential(\n",
            "        (0): Conv2d(256, 512, kernel_size=(1, 1), stride=(2, 2), bias=False)\n",
            "        (1): BatchNorm2d(512, eps=1e-05, momentum=0.1, affine=True, track_running_stats=True)\n",
            "      )\n",
            "    )\n",
            "    (1): BasicBlock(\n",
            "      (conv1): Conv2d(512, 512, kernel_size=(3, 3), stride=(1, 1), padding=(1, 1), bias=False)\n",
            "      (bn1): BatchNorm2d(512, eps=1e-05, momentum=0.1, affine=True, track_running_stats=True)\n",
            "      (relu): ReLU(inplace=True)\n",
            "      (conv2): Conv2d(512, 512, kernel_size=(3, 3), stride=(1, 1), padding=(1, 1), bias=False)\n",
            "      (bn2): BatchNorm2d(512, eps=1e-05, momentum=0.1, affine=True, track_running_stats=True)\n",
            "    )\n",
            "  )\n",
            "  (avgpool): AdaptiveAvgPool2d(output_size=(1, 1))\n",
            "  (fc): Linear(in_features=512, out_features=2, bias=True)\n",
            ")\n"
          ]
        }
      ],
      "source": [
        "import torchvision.models as models\n",
        "\n",
        "# Load a pre-trained model\n",
        "resnet = models.resnet18(pretrained=True)\n",
        "\n",
        "# Modify the final layer for a custom dataset\n",
        "num_ftrs = resnet.fc.in_features\n",
        "resnet.fc = nn.Linear(num_ftrs, 2)  # Example: Binary classification\n",
        "\n",
        "print(resnet)"
      ]
    },
    {
      "cell_type": "markdown",
      "metadata": {
        "id": "IoG6AtXmChZA"
      },
      "source": [
        "---------\n",
        "## **📌 Module 10: Training on GPUs and Multi-GPU Processing**  \n",
        "### **Why Train on GPUs?**  \n",
        "Training on **CPUs is slow**. GPUs process thousands of operations **in parallel**, speeding up deep learning.  \n",
        "\n",
        "### **Multi-GPU Training**  \n",
        "For large models, use multiple GPUs:   \n",
        "\n",
        "### **✅ Example: Training on a GPU**"
      ]
    },
    {
      "cell_type": "code",
      "execution_count": null,
      "metadata": {
        "colab": {
          "base_uri": "https://localhost:8080/"
        },
        "id": "_uuWoRwOCjd_",
        "outputId": "934c649a-1465-420d-a589-0cbaf63c50c6"
      },
      "outputs": [
        {
          "name": "stdout",
          "output_type": "stream",
          "text": [
            "cpu\n",
            "torch.Size([16, 10])\n"
          ]
        }
      ],
      "source": [
        "device = torch.device(\"cuda\" if torch.cuda.is_available() else \"cpu\")\n",
        "\n",
        "model = CNN().to(device)  # Move model to GPU\n",
        "inputs = torch.randn(16, 1, 28, 28).to(device)  # Example batch of 16 images\n",
        "\n",
        "outputs = model(inputs)\n",
        "print(device)\n",
        "print(outputs.shape)"
      ]
    },
    {
      "cell_type": "code",
      "execution_count": null,
      "metadata": {
        "id": "fWwL-c0lDUOu"
      },
      "outputs": [],
      "source": [
        "#if GPU is available\n",
        "#model = nn.DataParallel(model)\n",
        "#model.to(\"cuda\")"
      ]
    },
    {
      "cell_type": "markdown",
      "metadata": {
        "id": "P4XlpBQnC4EH"
      },
      "source": [
        "---\n",
        "\n",
        "## **📌 Module 11: Model Deployment (`torch.jit`, `torch.onnx`)**  \n",
        "### **Why Deploy Models?**  \n",
        "Once trained, we need to deploy the model efficiently for real-world use.  \n",
        "\n",
        "### **Deployment Options**  \n",
        "- **TorchScript (`torch.jit`)**: Convert model into an optimized format for inference.  \n",
        "- **ONNX (`torch.onnx`)**: Export models to run in different environments like TensorFlow or Caffe.   \n",
        "\n",
        "### **✅ Example: Converting a Model to TorchScript**  "
      ]
    },
    {
      "cell_type": "code",
      "execution_count": null,
      "metadata": {
        "id": "pcCgTP6uC_Bn"
      },
      "outputs": [],
      "source": [
        "scripted_model = torch.jit.script(model)\n",
        "torch.jit.save(scripted_model, \"cnn_model.pt\")"
      ]
    },
    {
      "cell_type": "markdown",
      "metadata": {
        "id": "cCwj117EDEn2"
      },
      "source": [
        "### **✅ Example: Exporting to ONNX for Deployment**  \n",
        "\n"
      ]
    },
    {
      "cell_type": "code",
      "execution_count": null,
      "metadata": {
        "colab": {
          "base_uri": "https://localhost:8080/"
        },
        "id": "64mOmI2ADKvm",
        "outputId": "8cbc6be6-a3a1-43c6-dcae-28ca8682cdd0"
      },
      "outputs": [
        {
          "name": "stdout",
          "output_type": "stream",
          "text": [
            "\u001b[2K   \u001b[90m━━━━━━━━━━━━━━━━━━━━━━━━━━━━━━━━━━━━━━━━\u001b[0m \u001b[32m16.0/16.0 MB\u001b[0m \u001b[31m30.7 MB/s\u001b[0m eta \u001b[36m0:00:00\u001b[0m\n",
            "\u001b[?25h"
          ]
        }
      ],
      "source": [
        "! pip install onnx  -q"
      ]
    },
    {
      "cell_type": "code",
      "execution_count": null,
      "metadata": {
        "id": "cUw8D7_yDF4m"
      },
      "outputs": [],
      "source": [
        "dummy_input = torch.randn(1, 1, 28, 28)  # Input shape for a CNN\n",
        "torch.onnx.export(model, dummy_input, \"cnn_model.onnx\")"
      ]
    },
    {
      "cell_type": "markdown",
      "metadata": {
        "id": "sSeb1aU6DxUd"
      },
      "source": [
        "## **📌 Module 12: Advanced PyTorch Techniques**  \n",
        "### **1. Mixed Precision Training (`torch.amp`)**  \n",
        "Training deep networks with **half-precision (float16)** reduces memory and increases speed:   \n",
        "\n",
        "### **✅ Example: Mixed Precision Training with `torch.amp`**"
      ]
    },
    {
      "cell_type": "code",
      "execution_count": null,
      "metadata": {
        "id": "4fYCVlusDz0N"
      },
      "outputs": [],
      "source": [
        "import torch\n",
        "import torch.nn as nn\n",
        "from torch.utils.data import DataLoader, TensorDataset\n",
        "\n",
        "# Detect CUDA availability\n",
        "use_cuda = torch.cuda.is_available()\n",
        "device = torch.device(\"cuda\" if use_cuda else \"cpu\")\n",
        "\n",
        "# Dummy Data (Replace with actual dataset)\n",
        "data = torch.randn(100, 10)  # 100 samples, 10 features\n",
        "labels = torch.randn(100, 1)  # 100 targets, should be (batch_size, 1)\n",
        "\n",
        "dataset = TensorDataset(data, labels)\n",
        "dataloader = DataLoader(dataset, batch_size=16, shuffle=True)\n",
        "\n",
        "# Define a simple model\n",
        "model = nn.Linear(10, 1).to(device)\n",
        "optimizer = torch.optim.Adam(model.parameters(), lr=0.001)\n",
        "criterion = nn.MSELoss()\n",
        "\n",
        "# Initialize AMP GradScaler correctly\n",
        "scaler = torch.amp.GradScaler()  # ✅ FIXED: Removed 'device_type' argument\n",
        "\n",
        "# Training loop\n",
        "for batch in dataloader:\n",
        "    x_batch, y_batch = batch\n",
        "    x_batch, y_batch = x_batch.to(device), y_batch.to(device)\n",
        "\n",
        "    # Fix shape issue\n",
        "    y_batch = y_batch.view(-1, 1)  # Ensure y_batch has shape (batch_size, 1)\n",
        "\n",
        "    optimizer.zero_grad()\n",
        "\n",
        "    # Use autocast correctly\n",
        "    with torch.amp.autocast(device_type=\"cuda\" if use_cuda else \"cpu\"):\n",
        "        output = model(x_batch)\n",
        "        loss = criterion(output, y_batch)\n",
        "\n",
        "    scaler.scale(loss).backward()\n",
        "    scaler.step(optimizer)\n",
        "    scaler.update()\n"
      ]
    },
    {
      "cell_type": "markdown",
      "metadata": {
        "id": "dq3zOx1lFO-a"
      },
      "source": [
        "---\n",
        "### **2. Distributed Training (`torch.distributed`)**  \n",
        "For massive datasets, distribute training across multiple GPUs and machines.  \n",
        "\n",
        "---"
      ]
    },
    {
      "cell_type": "markdown",
      "metadata": {
        "id": "sk6NsWyC-9af"
      },
      "source": [
        "\n",
        "\n",
        "\n",
        "\n",
        "# **🚀 Capstone Project: Full Deep Learning Pipeline**  \n",
        "### **Goal**: Build, train, and deploy a complete model.  \n",
        "\n",
        "### **Step-by-Step Workflow**  \n",
        "✅ **Step 1**: Load and preprocess data (`torchvision.datasets`, `DataLoader`).  \n",
        "✅ **Step 2**: Build a CNN (`torch.nn.Module`).  \n",
        "✅ **Step 3**: Train the model (`torch.optim`, `loss.backward()`).  \n",
        "✅ **Step 4**: Evaluate accuracy (`torch.no_grad()`).  \n",
        "✅ **Step 5**: Deploy using TorchScript (`torch.jit.save()`).  \n",
        "\n",
        "---\n",
        "\n",
        "# **🎯 Final Thoughts**  \n",
        "This **comprehensive guide** covers everything from **basic PyTorch** to **advanced techniques** with clear explanations!  \n"
      ]
    },
    {
      "cell_type": "markdown",
      "metadata": {
        "id": "xAtKyzU7s3O3"
      },
      "source": [
        "## **PyTorch Cheat Sheet: Regularization & Training Techniques**\n",
        "\n",
        "### 1. **Dropout** (Prevent Overfitting)\n",
        "- Randomly deactivates neurons during training to prevent over-reliance on specific features.\n",
        "```python\n",
        "nn.Dropout(p=0.3)  # 30% probability of dropping a neuron\n",
        "```\n",
        "- Apply it in the `forward` method:\n",
        "```python\n",
        "self.dropout = nn.Dropout(0.3)\n",
        "x = self.dropout(x)\n",
        "```\n",
        "\n",
        "### 2. **Batch Normalization** (Faster Convergence & Stability)\n",
        "- Normalizes activations within a batch to stabilize training.\n",
        "```python\n",
        "self.bn = nn.BatchNorm1d(num_features)\n",
        "```\n",
        "- Apply it before activation:\n",
        "```python\n",
        "x = self.relu(self.bn(self.fc(x)))\n",
        "```\n",
        "\n",
        "### 3. **L2 Regularization (Weight Decay)** (Reduce Overfitting)\n",
        "- Penalizes large weights to encourage simpler models.\n",
        "```python\n",
        "optimizer = optim.Adam(model.parameters(), lr=0.01, weight_decay=0.05)\n",
        "```\n",
        "\n",
        "### 4. **L1 Regularization (Sparse Weights)**\n",
        "- Encourages sparsity in weights by adding L1 penalty.\n",
        "```python\n",
        "l1_lambda = 0.01\n",
        "l1_norm = sum(p.abs().sum() for p in model.parameters())\n",
        "loss = base_loss + l1_lambda * l1_norm\n",
        "```\n",
        "\n",
        "### 5. **Early Stopping** (Prevent Overfitting)\n",
        "- Stop training when validation loss stops improving.\n",
        "```python\n",
        "best_loss = float('inf')\n",
        "patience = 5\n",
        "for epoch in range(num_epochs):\n",
        "    train_loss, val_loss = train(), validate()\n",
        "    if val_loss < best_loss:\n",
        "        best_loss = val_loss\n",
        "        patience = 5  # Reset patience\n",
        "    else:\n",
        "        patience -= 1\n",
        "        if patience == 0:\n",
        "            print(\"Early stopping\")\n",
        "            break\n",
        "```\n",
        "\n",
        "### 6. **Gradient Clipping** (Prevent Exploding Gradients)\n",
        "```python\n",
        "torch.nn.utils.clip_grad_norm_(model.parameters(), max_norm=1.0)\n",
        "```\n",
        "\n",
        "### 7. **Learning Rate Scheduling** (Adjust Learning Rate Dynamically)\n",
        "- Adjusts learning rate during training to improve performance.\n",
        "```python\n",
        "scheduler = optim.lr_scheduler.StepLR(optimizer, step_size=10, gamma=0.5)\n",
        "for epoch in range(num_epochs):\n",
        "    train()\n",
        "    scheduler.step()\n",
        "```\n",
        "\n",
        "### 8. **Data Augmentation (For Image Data)**\n",
        "- Augments images to increase dataset variability and improve generalization.\n",
        "```python\n",
        "import torchvision.transforms as transforms\n",
        "transform = transforms.Compose([\n",
        "    transforms.RandomHorizontalFlip(),\n",
        "    transforms.RandomRotation(10),\n",
        "    transforms.ToTensor()\n",
        "])\n",
        "```\n",
        "\n",
        "### 9. **Gradient Accumulation (For Large Batch Training)**\n",
        "- Simulates large batch training by accumulating gradients over multiple mini-batches.\n",
        "```python\n",
        "accumulation_steps = 4\n",
        "for i, (inputs, labels) in enumerate(dataloader):\n",
        "    loss = model(inputs, labels) / accumulation_steps\n",
        "    loss.backward()\n",
        "    if (i + 1) % accumulation_steps == 0:\n",
        "        optimizer.step()\n",
        "        optimizer.zero_grad()\n",
        "```\n",
        "\n",
        "### 10. **Model Summary** (View Model Details)\n",
        "- Displays the model architecture and number of parameters.\n",
        "```python\n",
        "from torchinfo import summary\n",
        "summary(model, input_size=(1, num_features))\n",
        "```\n",
        "\n",
        "### 11. **Validation Score & Metrics** (Track Performance)\n",
        "- Computes validation loss, Mean Absolute Error (MAE), and R² score.\n",
        "```python\n",
        "from sklearn.metrics import r2_score, mean_absolute_error\n",
        "\n",
        "with torch.no_grad():\n",
        "    val_outputs = model(X_val_tensor).numpy()\n",
        "    y_val_numpy = y_val_tensor.numpy()\n",
        "    val_loss = criterion(torch.tensor(val_outputs), y_val_tensor)\n",
        "    r2 = r2_score(y_val_numpy, val_outputs)\n",
        "    mae = mean_absolute_error(y_val_numpy, val_outputs)\n",
        "    print(f\"Validation Loss (MSE): {val_loss.item():.4f}\")\n",
        "    print(f\"Validation MAE: {mae:.4f}\")\n",
        "    print(f\"Validation R² Score: {r2:.4f}\")\n",
        "```\n",
        "\n",
        "### 12. **Checkpointing Model (Save & Load Best Model)**\n",
        "- Saves and loads the best model based on validation loss.\n",
        "```python\n",
        "# Save best model\n",
        "if val_loss < best_loss:\n",
        "    torch.save(model.state_dict(), \"best_model.pth\")\n",
        "\n",
        "# Load model\n",
        "model.load_state_dict(torch.load(\"best_model.pth\"))\n",
        "model.eval()\n",
        "```\n",
        "\n",
        "### 13. **Distributed Training (For Multi-GPU Training)**\n",
        "- Leverages multiple GPUs for faster training.\n",
        "```python\n",
        "model = nn.DataParallel(model)\n",
        "device = torch.device(\"cuda\" if torch.cuda.is_available() else \"cpu\")\n",
        "model.to(device)\n",
        "```\n",
        "\n",
        "### 14. **Mixed Precision Training (Speed Up Training)**\n",
        "- Uses `torch.cuda.amp` for faster training with reduced memory usage.\n",
        "```python\n",
        "scaler = torch.cuda.amp.GradScaler()\n",
        "for batch in dataloader:\n",
        "    optimizer.zero_grad()\n",
        "    with torch.cuda.amp.autocast():\n",
        "        loss = model(batch)\n",
        "    scaler.scale(loss).backward()\n",
        "    scaler.step(optimizer)\n",
        "    scaler.update()\n",
        "```\n",
        "\n",
        "---\n",
        "\n"
      ]
    },
    {
      "cell_type": "markdown",
      "metadata": {
        "id": "KEnZAgl8Kvae"
      },
      "source": [
        "### **Linear Regression:**\n",
        "- Detailed linear regression tutorial is in my machine learning tutorial in part \"Regression\". I will not explain it in here detailed.\n",
        "- y = Ax + B.\n",
        "    - A = slope of curve\n",
        "    - B = bias (point that intersect y-axis)\n",
        "- For example, we have car company. If the car price is low, we sell more car. If the car price is high, we sell less car. This is the fact that we know and we have data set about this fact.\n",
        "- The question is that what will be number of car sell if the car price is 100"
      ]
    },
    {
      "cell_type": "code",
      "execution_count": null,
      "metadata": {
        "colab": {
          "base_uri": "https://localhost:8080/",
          "height": 472
        },
        "id": "ziRaIUQiFcrB",
        "outputId": "743f0c6a-1201-48f1-d85f-6e64f360597e"
      },
      "outputs": [
        {
          "data": {
            "image/png": "[encoded data removed]",
            "text/plain": [
              "<Figure size 640x480 with 1 Axes>"
            ]
          },
          "metadata": {},
          "output_type": "display_data"
        }
      ],
      "source": [
        "import torch\n",
        "import numpy as np\n",
        "import matplotlib.pyplot as plt\n",
        "\n",
        "# Define car prices\n",
        "car_prices_array = [3, 4, 5, 6, 7, 8, 9]\n",
        "car_price_np = np.array(car_prices_array, dtype=np.float32).reshape(-1, 1)\n",
        "car_price_tensor = torch.from_numpy(car_price_np)  # No need for Variable\n",
        "\n",
        "# Define number of car sales\n",
        "number_of_car_sell_array = [7.5, 7, 6.5, 6.0, 5.5, 5.0, 4.5]\n",
        "number_of_car_sell_np = np.array(number_of_car_sell_array, dtype=np.float32).reshape(-1, 1)\n",
        "number_of_car_sell_tensor = torch.from_numpy(number_of_car_sell_np)  # No need for Variable\n",
        "\n",
        "# Visualize data\n",
        "plt.scatter(car_prices_array, number_of_car_sell_array)\n",
        "plt.xlabel(\"Car Price ($)\")\n",
        "plt.ylabel(\"Number of Cars Sold\")\n",
        "plt.title(\"Car Price vs Number of Cars Sold\")\n",
        "plt.show()\n"
      ]
    },
    {
      "cell_type": "markdown",
      "metadata": {
        "id": "ZjwTV1QYLAG9"
      },
      "source": [
        "- Now this plot is our collected data\n",
        "- We have a question that is what will be number of car sell if the car price is 100$\n",
        "- In order to solve this question we need to use linear regression.\n",
        "- We need to line fit into this data. Aim is fitting line with minimum error.\n",
        "- **Steps of Linear Regression**\n",
        "    1. create LinearRegression class\n",
        "    1. define model from this LinearRegression class\n",
        "    1. MSE: Mean squared error\n",
        "    1. Optimization (SGD:stochastic gradient descent)\n",
        "    1. Backpropagation\n",
        "    1. Prediction\n",
        "- Lets implement it with Pytorch"
      ]
    },
    {
      "cell_type": "code",
      "execution_count": null,
      "metadata": {
        "colab": {
          "base_uri": "https://localhost:8080/",
          "height": 837
        },
        "id": "UVyLTO6-K-LV",
        "outputId": "b34e8c2e-a986-4137-8c78-95a85dcc9a18"
      },
      "outputs": [
        {
          "name": "stdout",
          "output_type": "stream",
          "text": [
            "Epoch 0, Loss: 85.1142578125\n",
            "Epoch 50, Loss: 4.621310710906982\n",
            "Epoch 100, Loss: 3.1228127479553223\n",
            "Epoch 150, Loss: 2.110215425491333\n",
            "Epoch 200, Loss: 1.425960659980774\n",
            "Epoch 250, Loss: 0.9635815024375916\n",
            "Epoch 300, Loss: 0.6511325240135193\n",
            "Epoch 350, Loss: 0.43999770283699036\n",
            "Epoch 400, Loss: 0.2973242700099945\n",
            "Epoch 450, Loss: 0.20091448724269867\n",
            "Epoch 500, Loss: 0.13576640188694\n",
            "Epoch 550, Loss: 0.0917430967092514\n",
            "Epoch 600, Loss: 0.06199488788843155\n",
            "Epoch 650, Loss: 0.04189220815896988\n",
            "Epoch 700, Loss: 0.02830822765827179\n",
            "Epoch 750, Loss: 0.019128946587443352\n",
            "Epoch 800, Loss: 0.012926148250699043\n",
            "Epoch 850, Loss: 0.008734638802707195\n",
            "Epoch 900, Loss: 0.00590249290689826\n",
            "Epoch 950, Loss: 0.003988535143435001\n",
            "Epoch 1000, Loss: 0.0026952424086630344\n"
          ]
        },
        {
          "data": {
            "image/png": "[encoded data removed]",
            "text/plain": [
              "<Figure size 640x480 with 1 Axes>"
            ]
          },
          "metadata": {},
          "output_type": "display_data"
        }
      ],
      "source": [
        "# Linear Regression with PyTorch\n",
        "\n",
        "# Libraries\n",
        "import torch\n",
        "import torch.nn as nn\n",
        "import matplotlib.pyplot as plt\n",
        "\n",
        "# Define the Linear Regression Model\n",
        "class LinearRegression(nn.Module):\n",
        "    def __init__(self, input_size, output_size):\n",
        "        super(LinearRegression, self).__init__()\n",
        "        self.linear = nn.Linear(input_size, output_size)  # Fix: Correct variable names\n",
        "\n",
        "    def forward(self, x):\n",
        "        return self.linear(x)\n",
        "\n",
        "# Define model\n",
        "input_dim = 1\n",
        "output_dim = 1\n",
        "model = LinearRegression(input_dim, output_dim)\n",
        "\n",
        "# Mean Squared Error Loss\n",
        "mse = nn.MSELoss()\n",
        "\n",
        "# Optimizer (SGD)\n",
        "learning_rate = 0.02\n",
        "optimizer = torch.optim.SGD(model.parameters(), lr=learning_rate)\n",
        "\n",
        "# Data (No Variable needed)\n",
        "car_prices_array = [3, 4, 5, 6, 7, 8, 9]\n",
        "number_of_car_sell_array = [7.5, 7, 6.5, 6.0, 5.5, 5.0, 4.5]\n",
        "\n",
        "car_price_tensor = torch.tensor(car_prices_array, dtype=torch.float32).reshape(-1, 1)\n",
        "number_of_car_sell_tensor = torch.tensor(number_of_car_sell_array, dtype=torch.float32).reshape(-1, 1)\n",
        "\n",
        "# Train the Model\n",
        "loss_list = []\n",
        "iteration_number = 1001\n",
        "\n",
        "for iteration in range(iteration_number):\n",
        "\n",
        "    # Zero gradients\n",
        "    optimizer.zero_grad()\n",
        "\n",
        "    # Forward pass\n",
        "    results = model(car_price_tensor)\n",
        "\n",
        "    # Compute Loss\n",
        "    loss = mse(results, number_of_car_sell_tensor)\n",
        "\n",
        "    # Backpropagation\n",
        "    loss.backward()\n",
        "\n",
        "    # Update Parameters\n",
        "    optimizer.step()\n",
        "\n",
        "    # Store loss\n",
        "    loss_list.append(loss.item())  # Use .item() to store as Python float\n",
        "\n",
        "    # Print loss every 50 iterations\n",
        "    if iteration % 50 == 0:\n",
        "        print(f\"Epoch {iteration}, Loss: {loss.item()}\")\n",
        "\n",
        "# Plot Loss Over Iterations\n",
        "plt.plot(range(iteration_number), loss_list)\n",
        "plt.xlabel(\"Number of Iterations\")\n",
        "plt.ylabel(\"Loss\")\n",
        "plt.title(\"Loss Curve\")\n",
        "plt.show()\n"
      ]
    },
    {
      "cell_type": "markdown",
      "metadata": {
        "id": "_VUUTlvhLSeU"
      },
      "source": [
        "- Number of iteration is 1001.\n",
        "- Loss is almost zero that you can see from plot or loss in epoch number 1000.\n",
        "- Now we have a trained model.\n",
        "- While usign trained model, lets predict car prices."
      ]
    },
    {
      "cell_type": "code",
      "execution_count": null,
      "metadata": {
        "colab": {
          "base_uri": "https://localhost:8080/",
          "height": 472
        },
        "id": "NWWmel0XLTRk",
        "outputId": "49d379ec-f7dc-45c9-b595-b9ca9f4c124f"
      },
      "outputs": [
        {
          "data": {
            "image/png": "[encoded data removed]",
            "text/plain": [
              "<Figure size 640x480 with 1 Axes>"
            ]
          },
          "metadata": {},
          "output_type": "display_data"
        }
      ],
      "source": [
        "# Predict car sales based on trained model\n",
        "predicted = model(car_price_tensor).detach().numpy()  # Use `.detach()` instead of `.data`\n",
        "\n",
        "# Plot original vs predicted data\n",
        "plt.scatter(car_prices_array, number_of_car_sell_array, label=\"Original Data\", color=\"red\")\n",
        "plt.scatter(car_prices_array, predicted, label=\"Predicted Data\", color=\"blue\")\n",
        "\n",
        "# Predict for a new car price (e.g., $10)\n",
        "car_price_10 = torch.tensor([[10.0]], dtype=torch.float32)  # Ensure proper tensor format\n",
        "predicted_10 = model(car_price_10).detach().numpy()  # Use `.detach()`\n",
        "plt.scatter([10], predicted_10, label=\"Prediction for $10\", color=\"green\")\n",
        "\n",
        "# Finalize plot\n",
        "plt.legend()\n",
        "plt.xlabel(\"Car Price ($)\")\n",
        "plt.ylabel(\"Number of Cars Sold\")\n",
        "plt.title(\"Original vs Predicted Values\")\n",
        "plt.show()\n"
      ]
    },
    {
      "cell_type": "markdown",
      "metadata": {
        "id": "GV91vL1aLiWV"
      },
      "source": [
        "\n",
        "### **Logistic Regression:**\n",
        "- Linear regression is not good at classification.\n",
        "- We use logistic regression for classification.\n",
        "- linear regression + logistic function(softmax) = logistic regression\n",
        "\n",
        "- **Steps of Logistic Regression**\n",
        "    1. Import Libraries\n",
        "    1. Prepare Dataset\n",
        "        - We use MNIST dataset.\n",
        "        - There are 28*28 images and 10 labels from 0 to 9\n",
        "        - Data is not normalized so we divide each image to 255 that is basic normalization for images.\n",
        "        - In order to split data, we use train_test_split method from sklearn library\n",
        "        - Size of train data is 80% and size of test data is 20%.\n",
        "        - Create feature and target tensors. At the next parts we create variable from these tensors. As you remember we need to define variable for accumulation of gradients.\n",
        "        - batch_size = batch size means is that for example we have data and it includes 1000 sample. We can train 1000 sample in a same time or we can divide it 10 groups which include 100 sample and train 10 groups in order. Batch size is the group size. For example, I choose batch_size = 100, that means in order to train all data only once we have 336 groups. We train each groups(336) that have batch_size(quota) 100. Finally we train 33600 sample one time.\n",
        "        - epoch: 1 epoch means training all samples one time.\n",
        "        - In our example: we have 33600 sample to train and we decide our batch_size is 100. Also we decide epoch is 29(accuracy achieves almost highest value when epoch is 29). Data is trained 29 times. Question is that how many iteration do I need? Lets calculate:\n",
        "            - training data 1 times = training 33600 sample (because data includes 33600 sample)\n",
        "            - But we split our data 336 groups(group_size = batch_size = 100) our data\n",
        "            - Therefore, 1 epoch(training data only once) takes 336 iteration\n",
        "            - We have 29 epoch, so total iterarion is 9744(that is almost 10000 which I used)\n",
        "        - TensorDataset(): Data set wrapping tensors. Each sample is retrieved by indexing tensors along the first dimension.\n",
        "        - DataLoader(): It combines dataset and sample. It also provides multi process iterators over the dataset.\n",
        "        - Visualize one of the images in dataset\n",
        "    1. Create Logistic Regression Model\n",
        "        - Same with linear regression.\n",
        "        - However as you expect, there should be logistic function in model right?\n",
        "        - In pytorch, logistic function is in the loss function where we will use at next parts.\n",
        "    1. Instantiate Model\n",
        "        - input_dim = 28*28 # size of image px*px\n",
        "        - output_dim = 10  # labels 0,1,2,3,4,5,6,7,8,9\n",
        "        - create model\n",
        "    1. Instantiate Loss\n",
        "        - Cross entropy loss\n",
        "        - It calculates loss that is not surprise :)\n",
        "        - It also has softmax(logistic function) in it.\n",
        "    1. Instantiate Optimizer\n",
        "        - SGD Optimizer\n",
        "    1. Traning the Model\n",
        "    1. Prediction\n",
        "- As a result, as you can see from plot, while loss decreasing, accuracy(almost 85%) is increasing and our model is learning(training).    "
      ]
    },
    {
      "cell_type": "code",
      "execution_count": null,
      "metadata": {
        "colab": {
          "base_uri": "https://localhost:8080/",
          "height": 428
        },
        "id": "aI2SDLcvL2w0",
        "outputId": "d719275b-9f38-409a-cfbd-991be4cdb8da"
      },
      "outputs": [
        {
          "data": {
            "image/png": "[encoded data removed]",
            "text/plain": [
              "<Figure size 640x480 with 1 Axes>"
            ]
          },
          "metadata": {},
          "output_type": "display_data"
        }
      ],
      "source": [
        "# Import Libraries\n",
        "import torch\n",
        "import numpy as np\n",
        "import pandas as pd\n",
        "import matplotlib.pyplot as plt\n",
        "from torch.utils.data import DataLoader, TensorDataset\n",
        "from sklearn.model_selection import train_test_split\n",
        "\n",
        "# Load data\n",
        "train_data = pd.read_csv(\"/content/train.csv\", dtype=np.float32)\n",
        "\n",
        "# Split data into features (pixels) and labels (digits 0-9)\n",
        "targets_numpy = train_data.label.values\n",
        "features_numpy = train_data.loc[:, train_data.columns != \"label\"].values / 255.0  # Normalize\n",
        "\n",
        "# Train-test split (80% training, 20% testing)\n",
        "features_train, features_test, targets_train, targets_test = train_test_split(\n",
        "    features_numpy, targets_numpy, test_size=0.2, random_state=42\n",
        ")\n",
        "\n",
        "# Convert to PyTorch tensors (No Variable needed)\n",
        "features_train_tensor = torch.tensor(features_train, dtype=torch.float32)\n",
        "targets_train_tensor = torch.tensor(targets_train, dtype=torch.long)  # LongTensor for classification\n",
        "\n",
        "features_test_tensor = torch.tensor(features_test, dtype=torch.float32)\n",
        "targets_test_tensor = torch.tensor(targets_test, dtype=torch.long)\n",
        "\n",
        "# Define batch size, epochs, and iterations\n",
        "batch_size = 100\n",
        "n_iters = 10000\n",
        "num_epochs = n_iters // (len(features_train) // batch_size)\n",
        "\n",
        "# Create PyTorch datasets\n",
        "train_dataset = TensorDataset(features_train_tensor, targets_train_tensor)\n",
        "test_dataset = TensorDataset(features_test_tensor, targets_test_tensor)\n",
        "\n",
        "# Create DataLoaders\n",
        "train_loader = DataLoader(train_dataset, batch_size=batch_size, shuffle=True)  # Shuffle for better training\n",
        "test_loader = DataLoader(test_dataset, batch_size=batch_size, shuffle=False)\n",
        "\n",
        "# Visualize an example image from the dataset\n",
        "plt.imshow(features_numpy[10].reshape(28, 28), cmap=\"gray\")\n",
        "plt.axis(\"off\")\n",
        "plt.title(f\"Label: {targets_numpy[10]}\")\n",
        "plt.show()\n"
      ]
    },
    {
      "cell_type": "code",
      "execution_count": null,
      "metadata": {
        "id": "O1QcU6gTNLyB"
      },
      "outputs": [],
      "source": [
        "import torch\n",
        "import torch.nn as nn\n",
        "\n",
        "# Define Logistic Regression Model\n",
        "class LogisticRegressionModel(nn.Module):\n",
        "    def __init__(self, input_dim, output_dim):\n",
        "        super().__init__()  # Modern shortcut for `super(LogisticRegressionModel, self).__init__()`\n",
        "        self.linear = nn.Linear(input_dim, output_dim)  # Linear transformation\n",
        "\n",
        "    def forward(self, x):\n",
        "        return self.linear(x)  # No activation needed, handled by CrossEntropyLoss\n",
        "\n",
        "# Model Parameters\n",
        "input_dim = 28 * 28  # Image size (28x28 pixels)\n",
        "output_dim = 10  # Number of classes (digits 0-9)\n",
        "\n",
        "# Instantiate Model\n",
        "model = LogisticRegressionModel(input_dim, output_dim)\n",
        "\n",
        "# Define Loss Function (Cross Entropy includes Softmax)\n",
        "criterion = nn.CrossEntropyLoss()\n",
        "\n",
        "# Define Optimizer (SGD)\n",
        "learning_rate = 0.001\n",
        "optimizer = torch.optim.SGD(model.parameters(), lr=learning_rate)\n"
      ]
    },
    {
      "cell_type": "code",
      "execution_count": null,
      "metadata": {
        "colab": {
          "base_uri": "https://localhost:8080/"
        },
        "id": "bs6AzHmqNYyA",
        "outputId": "e421fd94-f12d-4904-a477-c370813a6722"
      },
      "outputs": [
        {
          "name": "stdout",
          "output_type": "stream",
          "text": [
            "Iteration: 500  Loss: 1.8846  Accuracy: 65.18%\n",
            "Iteration: 1000  Loss: 1.5364  Accuracy: 74.15%\n",
            "Iteration: 1500  Loss: 1.3444  Accuracy: 78.07%\n",
            "Iteration: 2000  Loss: 1.1200  Accuracy: 80.38%\n",
            "Iteration: 2500  Loss: 1.0870  Accuracy: 81.44%\n",
            "Iteration: 3000  Loss: 0.9440  Accuracy: 82.32%\n",
            "Iteration: 3500  Loss: 0.9003  Accuracy: 82.81%\n",
            "Iteration: 4000  Loss: 0.8379  Accuracy: 83.30%\n",
            "Iteration: 4500  Loss: 0.7717  Accuracy: 83.74%\n",
            "Iteration: 5000  Loss: 0.9158  Accuracy: 84.24%\n",
            "Iteration: 5500  Loss: 0.8396  Accuracy: 84.54%\n",
            "Iteration: 6000  Loss: 0.7009  Accuracy: 84.77%\n",
            "Iteration: 6500  Loss: 0.7318  Accuracy: 85.11%\n",
            "Iteration: 7000  Loss: 0.6486  Accuracy: 85.36%\n",
            "Iteration: 7500  Loss: 0.6755  Accuracy: 85.54%\n",
            "Iteration: 8000  Loss: 0.6527  Accuracy: 85.75%\n",
            "Iteration: 8500  Loss: 0.6332  Accuracy: 85.90%\n",
            "Iteration: 9000  Loss: 0.5503  Accuracy: 85.95%\n",
            "Iteration: 9500  Loss: 0.5994  Accuracy: 86.01%\n"
          ]
        }
      ],
      "source": [
        "# Training the Model\n",
        "count = 0\n",
        "loss_list = []\n",
        "iteration_list = []\n",
        "\n",
        "for epoch in range(num_epochs):\n",
        "    for i, (images, labels) in enumerate(train_loader):\n",
        "\n",
        "        # Reshape images to 1D tensor (28*28 pixels)\n",
        "        images = images.view(-1, 28 * 28)  # No need for Variable\n",
        "        labels = labels  # Labels remain the same\n",
        "\n",
        "        # Clear gradients\n",
        "        optimizer.zero_grad()\n",
        "\n",
        "        # Forward pass\n",
        "        outputs = model(images)\n",
        "\n",
        "        # Compute loss (CrossEntropyLoss applies softmax internally)\n",
        "        loss = criterion(outputs, labels)\n",
        "\n",
        "        # Backpropagation\n",
        "        loss.backward()\n",
        "\n",
        "        # Update weights\n",
        "        optimizer.step()\n",
        "\n",
        "        count += 1\n",
        "\n",
        "        # Evaluate model performance periodically\n",
        "        if count % 50 == 0:\n",
        "            correct = 0\n",
        "            total = 0\n",
        "\n",
        "            # Disable gradient calculations for evaluation\n",
        "            with torch.no_grad():\n",
        "                for images, labels in test_loader:\n",
        "                    images = images.view(-1, 28 * 28)  # Reshape\n",
        "\n",
        "                    # Forward pass\n",
        "                    outputs = model(images)\n",
        "\n",
        "                    # Get predictions (index of max logit)\n",
        "                    predicted = torch.argmax(outputs, dim=1)\n",
        "\n",
        "                    # Calculate accuracy\n",
        "                    total += labels.size(0)\n",
        "                    correct += (predicted == labels).sum().item()\n",
        "\n",
        "            accuracy = 100 * correct / total\n",
        "\n",
        "            # Store loss and iteration count\n",
        "            loss_list.append(loss.item())  # Use `.item()` instead of `.data`\n",
        "            iteration_list.append(count)\n",
        "\n",
        "        # Print progress every 500 iterations\n",
        "        if count % 500 == 0:\n",
        "            print(f'Iteration: {count}  Loss: {loss.item():.4f}  Accuracy: {accuracy:.2f}%')\n"
      ]
    },
    {
      "cell_type": "markdown",
      "metadata": {
        "id": "c4ramYErN91X"
      },
      "source": [
        "-----------\n",
        "### **Artificial Neural Network (ANN):**\n",
        "- Logistic regression is good at classification but when complexity(non linearity) increases, the accuracy of model decreases.\n",
        "- Therefore, we need to increase complexity of model.\n",
        "- In order to increase complexity of model, we need to add more non linear functions as hidden layer.\n",
        "- I am saying again that if you do not know what is artificial neural network check my deep learning tutorial because I will not explain neural network detailed here, only explain pytorch.\n",
        "- Artificial Neural Network tutorial: https://www.kaggle.com/kanncaa1/deep-learning-tutorial-for-beginners\n",
        "- What we expect from artificial neural network is that when complexity increases, we use more hidden layers and our model can adapt better. As a result accuracy increase.\n",
        "- **Steps of ANN:**\n",
        "    1. Import Libraries\n",
        "        - In order to show you, I import again but we actually imported them at previous parts.\n",
        "    1. Prepare Dataset\n",
        "        - Totally same with previous part(logistic regression).\n",
        "        - We use same dataset so we only need train_loader and test_loader.\n",
        "        - We use same batch size, epoch and iteration numbers.\n",
        "    1. Create ANN Model\n",
        "        - We add 3 hidden layers.\n",
        "        - We use ReLU, Tanh and ELU activation functions for diversity.\n",
        "    1. Instantiate Model Class\n",
        "        - input_dim = 28*28 # size of image px*px\n",
        "        - output_dim = 10  # labels 0,1,2,3,4,5,6,7,8,9\n",
        "        - Hidden layer dimension is 150. I only choose it as 150 there is no reason. Actually hidden layer dimension is hyperparameter and it should be chosen and tuned. You can try different values for hidden layer dimension and observe the results.\n",
        "        - create model\n",
        "    1. Instantiate Loss\n",
        "        - Cross entropy loss\n",
        "        - It also has softmax(logistic function) in it.\n",
        "    1. Instantiate Optimizer\n",
        "        - SGD Optimizer\n",
        "    1. Traning the Model\n",
        "    1. Prediction\n",
        "- As a result, as you can see from plot, while loss decreasing, accuracy is increasing and our model is learning(training).\n",
        "- Thanks to hidden layers model learnt better and accuracy(almost 95%) is better than accuracy of logistic regression model."
      ]
    },
    {
      "cell_type": "code",
      "execution_count": 17,
      "metadata": {
        "colab": {
          "base_uri": "https://localhost:8080/"
        },
        "id": "O-jcWPDy1iMr",
        "outputId": "5912d65f-db15-4873-c837-fd0e50797c39"
      },
      "outputs": [
        {
          "name": "stdout",
          "output_type": "stream",
          "text": [
            "Using device: cpu\n"
          ]
        }
      ],
      "source": [
        "import torch\n",
        "import torch.nn as nn\n",
        "import torch.optim as optim\n",
        "import torchvision.transforms as transforms\n",
        "import torchvision.datasets as datasets\n",
        "from torch.utils.data import DataLoader\n",
        "\n",
        "# Check GPU availability\n",
        "device = torch.device(\"cuda\" if torch.cuda.is_available() else \"cpu\")\n",
        "print(f\"Using device: {device}\")\n",
        "\n",
        "# Load MNIST dataset\n",
        "transform = transforms.Compose([transforms.ToTensor(), transforms.Normalize((0.5,), (0.5,))])\n",
        "\n",
        "train_dataset = datasets.MNIST(root=\"./data\", train=True, transform=transform, download=True)\n",
        "test_dataset = datasets.MNIST(root=\"./data\", train=False, transform=transform, download=True)\n",
        "\n",
        "# Data Loaders\n",
        "batch_size = 100\n",
        "train_loader = DataLoader(train_dataset, batch_size=batch_size, shuffle=True)\n",
        "test_loader = DataLoader(test_dataset, batch_size=batch_size, shuffle=False)\n",
        "\n"
      ]
    },
    {
      "cell_type": "code",
      "execution_count": 19,
      "metadata": {
        "id": "eM4j71vU1laZ"
      },
      "outputs": [],
      "source": [
        "\n",
        "# ANN Model Definition\n",
        "class ANNModel(nn.Module):\n",
        "    def __init__(self):\n",
        "        super(ANNModel, self).__init__()\n",
        "        self.fc1 = nn.Linear(28 * 28, 128)  # Input: 784 -> Hidden: 128\n",
        "        self.relu1 = nn.ReLU()\n",
        "        self.fc2 = nn.Linear(128, 64)  # Hidden: 128 -> Hidden: 64\n",
        "        self.relu2 = nn.ReLU()\n",
        "        self.fc3 = nn.Linear(64, 10)  # Hidden: 64 -> Output: 10\n",
        "\n",
        "    def forward(self, x):\n",
        "        x = x.view(-1, 28 * 28)  # Flatten image\n",
        "        x = self.fc1(x)\n",
        "        x = self.relu1(x)\n",
        "        x = self.fc2(x)\n",
        "        x = self.relu2(x)\n",
        "        x = self.fc3(x)\n",
        "        return x\n",
        "\n",
        "# Instantiate Model\n",
        "model = ANNModel().to(device)\n",
        "\n",
        "# Loss Function & Optimizer\n",
        "criterion = nn.CrossEntropyLoss()\n",
        "optimizer = optim.SGD(model.parameters(), lr=0.1)\n"
      ]
    },
    {
      "cell_type": "code",
      "execution_count": 24,
      "metadata": {
        "colab": {
          "base_uri": "https://localhost:8080/"
        },
        "id": "rJby6-rI1o1r",
        "outputId": "408a1843-7d3e-478a-ab8d-6401a9196c07"
      },
      "outputs": [
        {
          "name": "stdout",
          "output_type": "stream",
          "text": [
            "Epoch [1/2], Step [100/600], Loss: 0.0388, Accuracy: 97.34%\n",
            "Epoch [1/2], Step [200/600], Loss: 0.0185, Accuracy: 97.56%\n",
            "Epoch [1/2], Step [300/600], Loss: 0.0140, Accuracy: 97.55%\n",
            "Epoch [1/2], Step [400/600], Loss: 0.0334, Accuracy: 97.24%\n",
            "Epoch [1/2], Step [500/600], Loss: 0.0444, Accuracy: 97.60%\n",
            "Epoch [1/2], Step [600/600], Loss: 0.0260, Accuracy: 97.43%\n",
            "Epoch [2/2], Step [100/600], Loss: 0.0449, Accuracy: 97.31%\n",
            "Epoch [2/2], Step [200/600], Loss: 0.0530, Accuracy: 97.34%\n",
            "Epoch [2/2], Step [300/600], Loss: 0.0258, Accuracy: 97.39%\n",
            "Epoch [2/2], Step [400/600], Loss: 0.1276, Accuracy: 96.86%\n",
            "Epoch [2/2], Step [500/600], Loss: 0.0366, Accuracy: 97.64%\n",
            "Epoch [2/2], Step [600/600], Loss: 0.0324, Accuracy: 97.53%\n",
            "Final Test Accuracy: 97.53%\n"
          ]
        }
      ],
      "source": [
        "num_epochs = 2\n",
        "loss_list = []\n",
        "iteration_list = []\n",
        "accuracy_list = []\n",
        "\n",
        "for epoch in range(num_epochs):\n",
        "    model.train()\n",
        "\n",
        "    for i, (images, labels) in enumerate(train_loader):\n",
        "        images, labels = images.to(device), labels.to(device)  # Move to GPU if available\n",
        "        images = images.view(-1, 28 * 28)  # Flatten images\n",
        "\n",
        "        # Forward pass\n",
        "        outputs = model(images)\n",
        "        loss = criterion(outputs, labels)  # Compute loss\n",
        "\n",
        "        # Backpropagation\n",
        "        optimizer.zero_grad()\n",
        "        loss.backward()\n",
        "        optimizer.step()\n",
        "\n",
        "        # Track progress\n",
        "        if (i + 1) % 100 == 0:\n",
        "            model.eval()  # Set model to evaluation mode\n",
        "            correct, total = 0, 0\n",
        "\n",
        "            with torch.no_grad():\n",
        "                for images, labels in test_loader:\n",
        "                    images, labels = images.to(device), labels.to(device)\n",
        "                    images = images.view(-1, 28 * 28)  # Flatten images\n",
        "                    outputs = model(images)\n",
        "\n",
        "                    predicted = torch.argmax(outputs, dim=1)\n",
        "                    total += labels.size(0)\n",
        "                    correct += (predicted == labels).sum().item()\n",
        "\n",
        "            accuracy = 100 * correct / total\n",
        "            loss_list.append(loss.item())\n",
        "            iteration_list.append(epoch * len(train_loader) + i)\n",
        "            accuracy_list.append(accuracy)\n",
        "\n",
        "            print(f\"Epoch [{epoch+1}/{num_epochs}], Step [{i+1}/{len(train_loader)}], Loss: {loss.item():.4f}, Accuracy: {accuracy:.2f}%\")\n",
        "\n",
        "            model.train()  # Switch back to training mode\n",
        "\n",
        "model.eval()\n",
        "correct, total = 0, 0\n",
        "with torch.no_grad():\n",
        "    for images, labels in test_loader:\n",
        "        images, labels = images.to(device), labels.to(device)\n",
        "        images = images.view(-1, 28 * 28)  # Flatten images\n",
        "        outputs = model(images)\n",
        "\n",
        "        predicted = torch.argmax(outputs, dim=1)\n",
        "        total += labels.size(0)\n",
        "        correct += (predicted == labels).sum().item()\n",
        "\n",
        "accuracy = 100 * correct / total\n",
        "print(f\"Final Test Accuracy: {accuracy:.2f}%\")"
      ]
    },
    {
      "cell_type": "code",
      "execution_count": 25,
      "metadata": {
        "colab": {
          "base_uri": "https://localhost:8080/",
          "height": 957
        },
        "id": "qm61KPQUOoKV",
        "outputId": "064127aa-699a-482d-9bb8-2dd709fff7be"
      },
      "outputs": [
        {
          "data": {
            "image/png": "[encoded data removed]",
            "text/plain": [
              "<Figure size 800x500 with 1 Axes>"
            ]
          },
          "metadata": {},
          "output_type": "display_data"
        },
        {
          "data": {
            "image/png": "[encoded data removed]",
            "text/plain": [
              "<Figure size 800x500 with 1 Axes>"
            ]
          },
          "metadata": {},
          "output_type": "display_data"
        }
      ],
      "source": [
        "import matplotlib.pyplot as plt\n",
        "\n",
        "# Loss Visualization\n",
        "plt.figure(figsize=(8, 5))\n",
        "plt.plot(iteration_list, loss_list, marker='o', linestyle='-', color='blue', label='Loss')\n",
        "plt.xlabel(\"Number of Iterations\")\n",
        "plt.ylabel(\"Loss\")\n",
        "plt.title(\"ANN: Loss vs. Number of Iterations\")\n",
        "plt.legend()\n",
        "plt.grid(True)\n",
        "plt.show()\n",
        "\n",
        "# Accuracy Visualization\n",
        "plt.figure(figsize=(8, 5))\n",
        "plt.plot(iteration_list, accuracy_list, marker='o', linestyle='-', color='red', label='Accuracy')\n",
        "plt.xlabel(\"Number of Iterations\")\n",
        "plt.ylabel(\"Accuracy (%)\")\n",
        "plt.title(\"ANN: Accuracy vs. Number of Iterations\")\n",
        "plt.legend()\n",
        "plt.grid(True)\n",
        "plt.show()\n"
      ]
    },
    {
      "cell_type": "markdown",
      "metadata": {
        "id": "F-n4drNZO4G_"
      },
      "source": [
        "### **Convolutional Neural Network (CNN):**\n",
        "- CNN is well adapted to classify images.\n",
        "\n",
        "- **Steps of CNN:**\n",
        "    1. Import Libraries\n",
        "    1. Prepare Dataset\n",
        "        - Totally same with previous parts.\n",
        "        - We use same dataset so we only need train_loader and test_loader.\n",
        "    1. Convolutional layer:\n",
        "        - Create feature maps with filters(kernels).\n",
        "        - Padding: After applying filter, dimensions of original image decreases. However, we want to preserve as much as information about the original image. We can apply padding to increase dimension of feature map after convolutional layer.\n",
        "        - We use 2 convolutional layer.\n",
        "        - Number of feature map is out_channels = 16\n",
        "        - Filter(kernel) size is 5*5\n",
        "    1. Pooling layer:\n",
        "        - Prepares a condensed feature map from output of convolutional layer(feature map)\n",
        "        - 2 pooling layer that we will use max pooling.\n",
        "        - Pooling size is 2*2\n",
        "    1. Flattening: Flats the features map\n",
        "    1. Fully Connected Layer:\n",
        "        - Artificial Neural Network that we learnt at previous part.\n",
        "        - Or it can be only linear like logistic regression but at the end there is always softmax function.\n",
        "        - We will not use activation function in fully connected layer.\n",
        "        - You can think that our fully connected layer is logistic regression.\n",
        "        - We combine convolutional part and logistic regression to create our CNN model.\n",
        "    1. Instantiate Model Class\n",
        "        - create model\n",
        "    1. Instantiate Loss\n",
        "        - Cross entropy loss\n",
        "        - It also has softmax(logistic function) in it.\n",
        "    1. Instantiate Optimizer\n",
        "        - SGD Optimizer\n",
        "    1. Traning the Model\n",
        "    1. Prediction\n",
        "- As a result, as you can see from plot, while loss decreasing, accuracy is increasing and our model is learning(training).\n",
        "- Thanks to convolutional layer, model learnt better and accuracy(almost 98%) is better than accuracy of ANN. Actually while tuning hyperparameters, increase in iteration and expanding convolutional neural network can increase accuracy but it takes too much running time that we do not want at kaggle.   \n",
        "        "
      ]
    },
    {
      "cell_type": "code",
      "execution_count": 11,
      "metadata": {
        "colab": {
          "base_uri": "https://localhost:8080/"
        },
        "id": "R2eSvc3fO8BN",
        "outputId": "ce70d95e-3b41-430d-f273-ec882288026a"
      },
      "outputs": [
        {
          "name": "stdout",
          "output_type": "stream",
          "text": [
            "Using device: cpu\n"
          ]
        }
      ],
      "source": [
        "# Import Libraries\n",
        "import torch\n",
        "import torch.nn as nn\n",
        "import torch.optim as optim\n",
        "import torch.utils.data as data\n",
        "from torch.autograd import Variable\n",
        "from torch.utils.data import DataLoader\n",
        "\n",
        "import torchvision.transforms as transforms\n",
        "import torchvision.datasets as datasets\n",
        "\n",
        "import matplotlib.pyplot as plt\n",
        "\n",
        "# ===============================\n",
        "# ✅ Step 1: Check GPU Availability\n",
        "# ===============================\n",
        "device = torch.device(\"cuda\" if torch.cuda.is_available() else \"cpu\")\n",
        "print(f\"Using device: {device}\")\n",
        "\n",
        "# ===============================\n",
        "# ✅ Step 2: Load and Preprocess MNIST Dataset\n",
        "# ===============================\n",
        "transform = transforms.Compose([\n",
        "    transforms.ToTensor(),\n",
        "    transforms.Normalize((0.5,), (0.5,))  # Normalize pixel values\n",
        "])\n",
        "\n",
        "# Download and load MNIST dataset\n",
        "train_dataset = datasets.MNIST(root=\"./data\", train=True, transform=transform, download=True)\n",
        "test_dataset = datasets.MNIST(root=\"./data\", train=False, transform=transform, download=True)\n",
        "\n",
        "# Create Data Loaders\n",
        "batch_size = 100\n",
        "train_loader = DataLoader(train_dataset, batch_size=batch_size, shuffle=True)\n",
        "test_loader = DataLoader(test_dataset, batch_size=batch_size, shuffle=False)\n"
      ]
    },
    {
      "cell_type": "code",
      "execution_count": 12,
      "metadata": {
        "id": "Rz0FUdstRRK4"
      },
      "outputs": [],
      "source": [
        "\n",
        "# ===============================\n",
        "# ✅ Step 3: Define CNN Model\n",
        "# ===============================\n",
        "class CNNModel(nn.Module):\n",
        "    def __init__(self):\n",
        "        super(CNNModel, self).__init__()\n",
        "\n",
        "        # Convolution 1: Input (1, 28, 28) -> Output (16, 24, 24)\n",
        "        self.cnn1 = nn.Conv2d(in_channels=1, out_channels=16, kernel_size=5, stride=1, padding=0)\n",
        "        self.relu1 = nn.ReLU()\n",
        "        self.maxpool1 = nn.MaxPool2d(kernel_size=2)  # Output: (16, 12, 12)\n",
        "\n",
        "        # Convolution 2: Input (16, 12, 12) -> Output (32, 8, 8)\n",
        "        self.cnn2 = nn.Conv2d(in_channels=16, out_channels=32, kernel_size=5, stride=1, padding=0)\n",
        "        self.relu2 = nn.ReLU()\n",
        "        self.maxpool2 = nn.MaxPool2d(kernel_size=2)  # Output: (32, 4, 4)\n",
        "\n",
        "        # Fully connected layer\n",
        "        self.fc1 = nn.Linear(32 * 4 * 4, 10)  # Output: 10 classes (digits 0-9)\n",
        "\n",
        "    def forward(self, x):\n",
        "        x = self.cnn1(x)\n",
        "        x = self.relu1(x)\n",
        "        x = self.maxpool1(x)\n",
        "\n",
        "        x = self.cnn2(x)\n",
        "        x = self.relu2(x)\n",
        "        x = self.maxpool2(x)\n",
        "\n",
        "        x = x.view(x.size(0), -1)  # Flatten feature maps\n",
        "        x = self.fc1(x)\n",
        "        return x\n",
        "\n",
        "# Instantiate Model\n",
        "model = CNNModel().to(device)\n",
        "\n",
        "# ===============================\n",
        "# ✅ Step 4: Define Loss Function & Optimizer\n",
        "# ===============================\n",
        "criterion = nn.CrossEntropyLoss()\n",
        "optimizer = optim.SGD(model.parameters(), lr=0.1, momentum=0.9)"
      ]
    },
    {
      "cell_type": "code",
      "execution_count": 13,
      "metadata": {
        "colab": {
          "base_uri": "https://localhost:8080/"
        },
        "id": "d1qZ4uUCRZ5o",
        "outputId": "cf07f93f-ed43-4f7b-d6a8-fb8af616dc25"
      },
      "outputs": [
        {
          "name": "stdout",
          "output_type": "stream",
          "text": [
            "Epoch [1/2], Step [100/600], Loss: 0.2317, Accuracy: 95.38%\n",
            "Epoch [1/2], Step [200/600], Loss: 0.0932, Accuracy: 96.81%\n",
            "Epoch [1/2], Step [300/600], Loss: 0.2518, Accuracy: 97.50%\n",
            "Epoch [1/2], Step [400/600], Loss: 0.0479, Accuracy: 97.31%\n",
            "Epoch [1/2], Step [500/600], Loss: 0.1289, Accuracy: 97.83%\n",
            "Epoch [1/2], Step [600/600], Loss: 0.0376, Accuracy: 97.59%\n",
            "Epoch [2/2], Step [100/600], Loss: 0.0450, Accuracy: 97.65%\n",
            "Epoch [2/2], Step [200/600], Loss: 0.0116, Accuracy: 98.41%\n",
            "Epoch [2/2], Step [300/600], Loss: 0.0300, Accuracy: 98.14%\n",
            "Epoch [2/2], Step [400/600], Loss: 0.0145, Accuracy: 98.17%\n",
            "Epoch [2/2], Step [500/600], Loss: 0.0028, Accuracy: 98.69%\n",
            "Epoch [2/2], Step [600/600], Loss: 0.0247, Accuracy: 98.47%\n",
            "\n",
            "🔥 Final Test Accuracy: 98.47% 🔥\n"
          ]
        }
      ],
      "source": [
        "# ===============================\n",
        "# ✅ Step 5: Train the CNN Model\n",
        "# ===============================\n",
        "num_epochs = 2\n",
        "loss_list = []\n",
        "iteration_list = []\n",
        "accuracy_list = []\n",
        "\n",
        "for epoch in range(num_epochs):\n",
        "    model.train()\n",
        "\n",
        "    for i, (images, labels) in enumerate(train_loader):\n",
        "        images, labels = images.to(device), labels.to(device)  # Move to GPU if available\n",
        "\n",
        "        # Forward pass\n",
        "        outputs = model(images)\n",
        "        loss = criterion(outputs, labels)  # Compute loss\n",
        "\n",
        "        # Backpropagation\n",
        "        optimizer.zero_grad()\n",
        "        loss.backward()\n",
        "        optimizer.step()\n",
        "\n",
        "        # Track progress\n",
        "        if (i + 1) % 100 == 0:\n",
        "            model.eval()  # Set model to evaluation mode\n",
        "            correct, total = 0, 0\n",
        "\n",
        "            with torch.no_grad():\n",
        "                for images, labels in test_loader:\n",
        "                    images, labels = images.to(device), labels.to(device)\n",
        "                    outputs = model(images)\n",
        "\n",
        "                    predicted = torch.argmax(outputs, dim=1)\n",
        "                    total += labels.size(0)\n",
        "                    correct += (predicted == labels).sum().item()\n",
        "\n",
        "            accuracy = 100 * correct / total\n",
        "            loss_list.append(loss.item())\n",
        "            iteration_list.append(epoch * len(train_loader) + i)\n",
        "            accuracy_list.append(accuracy)\n",
        "\n",
        "            print(f\"Epoch [{epoch+1}/{num_epochs}], Step [{i+1}/{len(train_loader)}], Loss: {loss.item():.4f}, Accuracy: {accuracy:.2f}%\")\n",
        "\n",
        "            model.train()  # Switch back to training mode\n",
        "\n",
        "# ===============================\n",
        "# ✅ Step 6: Evaluate Model Accuracy\n",
        "# ===============================\n",
        "model.eval()\n",
        "correct, total = 0, 0\n",
        "\n",
        "with torch.no_grad():\n",
        "    for images, labels in test_loader:\n",
        "        images, labels = images.to(device), labels.to(device)\n",
        "        outputs = model(images)\n",
        "\n",
        "        predicted = torch.argmax(outputs, dim=1)\n",
        "        total += labels.size(0)\n",
        "        correct += (predicted == labels).sum().item()\n",
        "\n",
        "accuracy = 100 * correct / total\n",
        "print(f\"\\n🔥 Final Test Accuracy: {accuracy:.2f}% 🔥\")\n",
        "\n"
      ]
    },
    {
      "cell_type": "code",
      "execution_count": 16,
      "metadata": {
        "colab": {
          "base_uri": "https://localhost:8080/",
          "height": 957
        },
        "id": "FvAJSM1ZSZZG",
        "outputId": "43c16397-76c2-4457-cb8d-cfa4e4743b29"
      },
      "outputs": [
        {
          "data": {
            "image/png": "[encoded data removed]",
            "text/plain": [
              "<Figure size 800x500 with 1 Axes>"
            ]
          },
          "metadata": {},
          "output_type": "display_data"
        },
        {
          "data": {
            "image/png": "[encoded data removed]",
            "text/plain": [
              "<Figure size 800x500 with 1 Axes>"
            ]
          },
          "metadata": {},
          "output_type": "display_data"
        }
      ],
      "source": [
        "# ===============================\n",
        "# ✅ Step 7: Plot Training Loss & Accuracy\n",
        "# ===============================\n",
        "\n",
        "# Loss Visualization\n",
        "plt.figure(figsize=(8, 5))\n",
        "plt.plot(iteration_list, loss_list, marker='o', linestyle='-', color='blue', label='Loss')\n",
        "plt.xlabel(\"Number of Iterations\")\n",
        "plt.ylabel(\"Loss\")\n",
        "plt.title(\"CNN: Loss vs. Number of Iterations\")\n",
        "plt.legend()\n",
        "plt.grid(True)\n",
        "plt.show()\n",
        "\n",
        "# Accuracy Visualization\n",
        "plt.figure(figsize=(8, 5))\n",
        "plt.plot(iteration_list, accuracy_list, marker='o', linestyle='-', color='red', label='Accuracy')\n",
        "plt.xlabel(\"Number of Iterations\")\n",
        "plt.ylabel(\"Accuracy (%)\")\n",
        "plt.title(\"CNN: Accuracy vs. Number of Iterations\")\n",
        "plt.legend()\n",
        "plt.grid(True)\n",
        "plt.show()"
      ]
    },
    {
      "cell_type": "markdown",
      "metadata": {
        "id": "7XiocDJQSBee"
      },
      "source": [
        "### **Recurrent Neural Network (RNN):**\n",
        "- RNN is essentially repeating ANN but information get pass through from previous non-linear activation function output.\n",
        "- **Steps of RNN:**\n",
        "    1. Import Libraries\n",
        "    1. Prepare Dataset\n",
        "    1. Create RNN Model\n",
        "        - hidden layer dimension is 100\n",
        "        - number of hidden layer is 1\n",
        "    1. Instantiate Model\n",
        "    1. Instantiate Loss\n",
        "        - Cross entropy loss\n",
        "        - It also has softmax(logistic function) in it.\n",
        "    1. Instantiate Optimizer\n",
        "        - SGD Optimizer\n",
        "    1. Traning the Model\n",
        "    1. Prediction"
      ]
    },
    {
      "cell_type": "code",
      "execution_count": 31,
      "metadata": {
        "colab": {
          "base_uri": "https://localhost:8080/"
        },
        "id": "YmgrnxxLYipB",
        "outputId": "c36e4df3-c751-437e-f62d-a20ca69b4352"
      },
      "outputs": [
        {
          "name": "stdout",
          "output_type": "stream",
          "text": [
            "🚀 Using device: cpu\n"
          ]
        }
      ],
      "source": [
        "# ===============================\n",
        "# ✅ Step 1: Import Libraries\n",
        "# ===============================\n",
        "import torch\n",
        "import torch.nn as nn\n",
        "import torch.optim as optim\n",
        "import torchvision.transforms as transforms\n",
        "import torchvision.datasets as datasets\n",
        "from torch.utils.data import DataLoader\n",
        "\n",
        "# ===============================\n",
        "# ✅ Step 2: Check GPU Availability\n",
        "# ===============================\n",
        "device = torch.device(\"cuda\" if torch.cuda.is_available() else \"cpu\")\n",
        "print(f\"🚀 Using device: {device}\")\n",
        "\n",
        "# ===============================\n",
        "# ✅ Step 3: Load and Prepare MNIST Dataset\n",
        "# ===============================\n",
        "transform = transforms.Compose([transforms.ToTensor(), transforms.Normalize((0.5,), (0.5,))])\n",
        "\n",
        "train_dataset = datasets.MNIST(root=\"./data\", train=True, transform=transform, download=True)\n",
        "test_dataset = datasets.MNIST(root=\"./data\", train=False, transform=transform, download=True)\n",
        "\n",
        "# Data Loaders\n",
        "batch_size = 100\n",
        "train_loader = DataLoader(train_dataset, batch_size=batch_size, shuffle=True)\n",
        "test_loader = DataLoader(test_dataset, batch_size=batch_size, shuffle=False)\n",
        "\n",
        "\n"
      ]
    },
    {
      "cell_type": "code",
      "execution_count": 33,
      "metadata": {
        "id": "a1ME5LhaYue0"
      },
      "outputs": [],
      "source": [
        "# ===============================\n",
        "# ✅ Step 4: Define RNN Model\n",
        "# ===============================\n",
        "class RNNModel(nn.Module):\n",
        "    def __init__(self, input_dim, hidden_dim, layer_dim, output_dim):\n",
        "        super(RNNModel, self).__init__()\n",
        "        self.hidden_dim = hidden_dim\n",
        "        self.layer_dim = layer_dim\n",
        "\n",
        "        # RNN Layer\n",
        "        self.rnn = nn.RNN(input_dim, hidden_dim, layer_dim, batch_first=True, nonlinearity=\"relu\")\n",
        "\n",
        "        # Fully connected output layer\n",
        "        self.fc = nn.Linear(hidden_dim, output_dim)\n",
        "\n",
        "    def forward(self, x):\n",
        "        h0 = torch.zeros(self.layer_dim, x.size(0), self.hidden_dim).to(x.device)  # Initialize hidden state\n",
        "\n",
        "        out, hn = self.rnn(x, h0)\n",
        "        out = self.fc(out[:, -1, :])  # Last time step\n",
        "        return out\n",
        "\n",
        "\n",
        "# Model Hyperparameters\n",
        "input_dim = 28  # Each row in the image\n",
        "hidden_dim = 128  # Number of hidden neurons\n",
        "layer_dim = 2  # Stacked RNN layers\n",
        "output_dim = 10  # Digits (0-9)\n",
        "\n",
        "# Initialize Model\n",
        "model = RNNModel(input_dim, hidden_dim, layer_dim, output_dim).to(device)\n",
        "\n",
        "# Loss function & optimizer\n",
        "criterion = nn.CrossEntropyLoss()\n",
        "optimizer = optim.Adam(model.parameters(), lr=0.001)  # Adam optimizer\n"
      ]
    },
    {
      "cell_type": "code",
      "execution_count": 34,
      "metadata": {
        "colab": {
          "base_uri": "https://localhost:8080/"
        },
        "id": "BW_X5yFu32yL",
        "outputId": "9a6ad21a-0a83-4c4e-f98c-afbc71c9a4ab"
      },
      "outputs": [
        {
          "name": "stdout",
          "output_type": "stream",
          "text": [
            "Epoch [1/2], Step [100/600], Loss: 1.0367, Accuracy: 62.06%\n",
            "Epoch [1/2], Step [200/600], Loss: 0.4897, Accuracy: 85.64%\n",
            "Epoch [1/2], Step [300/600], Loss: 0.2542, Accuracy: 90.74%\n",
            "Epoch [1/2], Step [400/600], Loss: 0.3148, Accuracy: 92.34%\n",
            "Epoch [1/2], Step [500/600], Loss: 0.3055, Accuracy: 91.68%\n",
            "Epoch [1/2], Step [600/600], Loss: 0.3133, Accuracy: 93.02%\n",
            "Epoch [2/2], Step [100/600], Loss: 0.2049, Accuracy: 93.28%\n",
            "Epoch [2/2], Step [200/600], Loss: 0.2233, Accuracy: 92.12%\n",
            "Epoch [2/2], Step [300/600], Loss: 0.0689, Accuracy: 95.71%\n",
            "Epoch [2/2], Step [400/600], Loss: 0.1391, Accuracy: 95.50%\n",
            "Epoch [2/2], Step [500/600], Loss: 0.1705, Accuracy: 95.63%\n",
            "Epoch [2/2], Step [600/600], Loss: 0.1068, Accuracy: 96.07%\n",
            "\n",
            "🔥 Final Test Accuracy: 96.07% 🔥\n"
          ]
        }
      ],
      "source": [
        "\n",
        "# ===============================\n",
        "# ✅ Step 5: Train the RNN Model\n",
        "# ===============================\n",
        "num_epochs = 2\n",
        "loss_list = []\n",
        "iteration_list = []\n",
        "accuracy_list = []\n",
        "\n",
        "for epoch in range(num_epochs):\n",
        "    model.train()\n",
        "\n",
        "    for i, (images, labels) in enumerate(train_loader):\n",
        "        images, labels = images.to(device), labels.to(device)  # Move to GPU if available\n",
        "\n",
        "        # Reshape images for RNN (batch_size, sequence_length, input_size)\n",
        "        images = images.view(-1, 28, 28)\n",
        "\n",
        "        # Forward pass\n",
        "        outputs = model(images)\n",
        "        loss = criterion(outputs, labels)  # Compute loss\n",
        "\n",
        "        # Backpropagation\n",
        "        optimizer.zero_grad()\n",
        "        loss.backward()\n",
        "        optimizer.step()\n",
        "\n",
        "        # Track progress\n",
        "        if (i + 1) % 100 == 0:\n",
        "            model.eval()\n",
        "            correct, total = 0, 0\n",
        "\n",
        "            with torch.no_grad():\n",
        "                for images, labels in test_loader:\n",
        "                    images, labels = images.to(device), labels.to(device)\n",
        "                    images = images.view(-1, 28, 28)\n",
        "                    outputs = model(images)\n",
        "\n",
        "                    predicted = torch.argmax(outputs, dim=1)\n",
        "                    total += labels.size(0)\n",
        "                    correct += (predicted == labels).sum().item()\n",
        "\n",
        "            accuracy = 100 * correct / total\n",
        "            loss_list.append(loss.item())\n",
        "            iteration_list.append(epoch * len(train_loader) + i)\n",
        "            accuracy_list.append(accuracy)\n",
        "\n",
        "            print(f\"Epoch [{epoch+1}/{num_epochs}], Step [{i+1}/{len(train_loader)}], Loss: {loss.item():.4f}, Accuracy: {accuracy:.2f}%\")\n",
        "\n",
        "            model.train()  # Switch back to training mode\n",
        "\n",
        "# ===============================\n",
        "# ✅ Step 6: Evaluate Model Accuracy\n",
        "# ===============================\n",
        "model.eval()\n",
        "correct, total = 0, 0\n",
        "\n",
        "with torch.no_grad():\n",
        "    for images, labels in test_loader:\n",
        "        images, labels = images.to(device), labels.to(device)\n",
        "        images = images.view(-1, 28, 28)  # Reshape for RNN\n",
        "        outputs = model(images)\n",
        "\n",
        "        predicted = torch.argmax(outputs, dim=1)\n",
        "        total += labels.size(0)\n",
        "        correct += (predicted == labels).sum().item()\n",
        "\n",
        "accuracy = 100 * correct / total\n",
        "print(f\"\\n🔥 Final Test Accuracy: {accuracy:.2f}% 🔥\")"
      ]
    },
    {
      "cell_type": "code",
      "execution_count": 35,
      "metadata": {
        "colab": {
          "base_uri": "https://localhost:8080/",
          "height": 957
        },
        "id": "Dwt6BIC4TV0l",
        "outputId": "8824d59c-9348-4081-9d74-8501b926900a"
      },
      "outputs": [
        {
          "data": {
            "image/png": "[encoded data removed]",
            "text/plain": [
              "<Figure size 800x500 with 1 Axes>"
            ]
          },
          "metadata": {},
          "output_type": "display_data"
        },
        {
          "data": {
            "image/png": "[encoded data removed]",
            "text/plain": [
              "<Figure size 800x500 with 1 Axes>"
            ]
          },
          "metadata": {},
          "output_type": "display_data"
        }
      ],
      "source": [
        "import matplotlib.pyplot as plt\n",
        "\n",
        "# Loss Visualization\n",
        "plt.figure(figsize=(8, 5))\n",
        "plt.plot(iteration_list, loss_list, marker='o', linestyle='-', color='blue', label='Loss')\n",
        "plt.xlabel(\"Number of Iterations\")\n",
        "plt.ylabel(\"Loss\")\n",
        "plt.title(\"RNN: Loss vs. Number of Iterations\")\n",
        "plt.legend()\n",
        "plt.grid(True)\n",
        "plt.show()\n",
        "\n",
        "# Accuracy Visualization\n",
        "plt.figure(figsize=(8, 5))\n",
        "plt.plot(iteration_list, accuracy_list, marker='o', linestyle='-', color='red', label='Accuracy')\n",
        "plt.xlabel(\"Number of Iterations\")\n",
        "plt.ylabel(\"Accuracy (%)\")\n",
        "plt.title(\"RNN: Accuracy vs. Number of Iterations\")\n",
        "plt.legend()\n",
        "plt.grid(True)\n",
        "plt.show()\n"
      ]
    },
    {
      "cell_type": "markdown",
      "metadata": {
        "id": "rzciiuGQT-yT"
      },
      "source": [
        "### **Long-Short Term Memory (LSTM):**\n",
        "\n",
        "<br>**Steps of LSTM:**\n",
        "1. Import Libraries\n",
        "1. Prepare Dataset\n",
        "1. Create LSTM Model\n",
        "    1. hidden layer dimension is 100\n",
        "    1. number of hidden layer is 1\n",
        "1. Instantiate Model\n",
        "1. Instantiate Loss\n",
        "    1. Cross entropy loss\n",
        "    1. It also has softmax(logistic function) in it.\n",
        "1. Instantiate Optimizer\n",
        "    1. SGD Optimizer\n",
        "1. Traning the Model\n",
        "1. Prediction"
      ]
    },
    {
      "cell_type": "code",
      "execution_count": 39,
      "metadata": {
        "colab": {
          "base_uri": "https://localhost:8080/",
          "height": 446
        },
        "id": "6Ycxml72XFuk",
        "outputId": "63b5e6d9-27fe-42aa-81f1-f9c6c748dee1"
      },
      "outputs": [
        {
          "name": "stdout",
          "output_type": "stream",
          "text": [
            "🚀 Using device: cpu\n"
          ]
        },
        {
          "data": {
            "image/png": "[encoded data removed]",
            "text/plain": [
              "<Figure size 640x480 with 1 Axes>"
            ]
          },
          "metadata": {},
          "output_type": "display_data"
        }
      ],
      "source": [
        "# ===============================\n",
        "# ✅ Step 1: Import Libraries\n",
        "# ===============================\n",
        "import torch\n",
        "import torch.nn as nn\n",
        "import torch.optim as optim\n",
        "import torchvision.transforms as transforms\n",
        "import torchvision.datasets as datasets\n",
        "from torch.utils.data import DataLoader\n",
        "\n",
        "# ===============================\n",
        "# ✅ Step 2: Check GPU Availability\n",
        "# ===============================\n",
        "device = torch.device(\"cuda\" if torch.cuda.is_available() else \"cpu\")\n",
        "print(f\"🚀 Using device: {device}\")\n",
        "\n",
        "# ===============================\n",
        "# ✅ Step 3: Load and Prepare MNIST Dataset\n",
        "# ===============================\n",
        "transform = transforms.Compose([transforms.ToTensor(), transforms.Normalize((0.5,), (0.5,))])\n",
        "\n",
        "train_dataset = datasets.MNIST(root=\"./data\", train=True, transform=transform, download=True)\n",
        "test_dataset = datasets.MNIST(root=\"./data\", train=False, transform=transform, download=True)\n",
        "\n",
        "# Data Loaders\n",
        "batch_size = 100\n",
        "train_loader = DataLoader(train_dataset, batch_size=batch_size, shuffle=True)\n",
        "test_loader = DataLoader(test_dataset, batch_size=batch_size, shuffle=False)\n",
        "\n",
        "# Visualize sample image\n",
        "sample_image, sample_label = train_dataset[10]\n",
        "plt.imshow(sample_image.squeeze(), cmap=\"gray\")\n",
        "plt.axis(\"off\")\n",
        "plt.title(f\"Label: {sample_label}\")\n",
        "plt.show()\n"
      ]
    },
    {
      "cell_type": "code",
      "execution_count": 41,
      "metadata": {
        "id": "6ZfIYIJ_VPMZ"
      },
      "outputs": [],
      "source": [
        "# ===============================\n",
        "# ✅ Step 4: Define LSTM Model\n",
        "# ===============================\n",
        "class LSTMModel(nn.Module):\n",
        "    def __init__(self, input_dim, hidden_dim, layer_dim, output_dim):\n",
        "        super(LSTMModel, self).__init__()\n",
        "        self.hidden_dim = hidden_dim\n",
        "        self.layer_dim = layer_dim\n",
        "\n",
        "        # LSTM Layer\n",
        "        self.lstm = nn.LSTM(input_dim, hidden_dim, layer_dim, batch_first=True)\n",
        "\n",
        "        # Fully connected output layer\n",
        "        self.fc = nn.Linear(hidden_dim, output_dim)\n",
        "\n",
        "    def forward(self, x):\n",
        "        h0 = torch.zeros(self.layer_dim, x.size(0), self.hidden_dim).to(x.device)  # Hidden state\n",
        "        c0 = torch.zeros(self.layer_dim, x.size(0), self.hidden_dim).to(x.device)  # Cell state\n",
        "\n",
        "        out, (hn, cn) = self.lstm(x, (h0, c0))  # LSTM forward pass\n",
        "        out = self.fc(out[:, -1, :])  # Take last time step\n",
        "        return out\n",
        "\n",
        "\n",
        "# Model Hyperparameters\n",
        "input_dim = 28   # Each row is a feature (28 pixels per row)\n",
        "hidden_dim = 128  # Number of LSTM hidden neurons\n",
        "layer_dim = 2  # Stacked LSTMs\n",
        "output_dim = 10  # Digits (0-9)\n",
        "\n",
        "# Initialize Model\n",
        "model = LSTMModel(input_dim, hidden_dim, layer_dim, output_dim).to(device)\n",
        "\n",
        "# Loss function & optimizer\n",
        "criterion = nn.CrossEntropyLoss()\n",
        "optimizer = optim.Adam(model.parameters(), lr=0.001)  # Adam optimizer"
      ]
    },
    {
      "cell_type": "code",
      "execution_count": 42,
      "metadata": {
        "colab": {
          "base_uri": "https://localhost:8080/"
        },
        "id": "L72_uHukfnyr",
        "outputId": "5bc7a7c2-bdd8-4acd-a9b3-0115f090cd8f"
      },
      "outputs": [
        {
          "name": "stdout",
          "output_type": "stream",
          "text": [
            "Epoch [1/2], Step [100/600], Loss: 0.6112, Accuracy: 82.51%\n",
            "Epoch [1/2], Step [200/600], Loss: 0.4214, Accuracy: 89.14%\n",
            "Epoch [1/2], Step [300/600], Loss: 0.0921, Accuracy: 93.53%\n",
            "Epoch [1/2], Step [400/600], Loss: 0.2380, Accuracy: 95.59%\n",
            "Epoch [1/2], Step [500/600], Loss: 0.1525, Accuracy: 94.67%\n",
            "Epoch [1/2], Step [600/600], Loss: 0.1230, Accuracy: 95.40%\n",
            "Epoch [2/2], Step [100/600], Loss: 0.2066, Accuracy: 96.82%\n",
            "Epoch [2/2], Step [200/600], Loss: 0.0900, Accuracy: 97.05%\n",
            "Epoch [2/2], Step [300/600], Loss: 0.0793, Accuracy: 97.21%\n",
            "Epoch [2/2], Step [400/600], Loss: 0.0734, Accuracy: 97.40%\n",
            "Epoch [2/2], Step [500/600], Loss: 0.0540, Accuracy: 97.60%\n",
            "Epoch [2/2], Step [600/600], Loss: 0.0813, Accuracy: 97.72%\n",
            "\n",
            "🔥 Final Test Accuracy: 97.72% 🔥\n"
          ]
        }
      ],
      "source": [
        "# ===============================\n",
        "# ✅ Step 5: Train the LSTM Model\n",
        "# ===============================\n",
        "num_epochs = 2\n",
        "loss_list = []\n",
        "iteration_list = []\n",
        "accuracy_list = []\n",
        "\n",
        "for epoch in range(num_epochs):\n",
        "    model.train()\n",
        "\n",
        "    for i, (images, labels) in enumerate(train_loader):\n",
        "        images, labels = images.to(device), labels.to(device)  # Move to GPU if available\n",
        "\n",
        "        # Reshape images for LSTM (batch_size, sequence_length, input_size)\n",
        "        images = images.view(-1, 28, 28)\n",
        "\n",
        "        # Forward pass\n",
        "        outputs = model(images)\n",
        "        loss = criterion(outputs, labels)  # Compute loss\n",
        "\n",
        "        # Backpropagation\n",
        "        optimizer.zero_grad()\n",
        "        loss.backward()\n",
        "        optimizer.step()\n",
        "\n",
        "        # Track progress\n",
        "        if (i + 1) % 100 == 0:\n",
        "            model.eval()\n",
        "            correct, total = 0, 0\n",
        "\n",
        "            with torch.no_grad():\n",
        "                for images, labels in test_loader:\n",
        "                    images, labels = images.to(device), labels.to(device)\n",
        "                    images = images.view(-1, 28, 28)\n",
        "                    outputs = model(images)\n",
        "\n",
        "                    predicted = torch.argmax(outputs, dim=1)\n",
        "                    total += labels.size(0)\n",
        "                    correct += (predicted == labels).sum().item()\n",
        "\n",
        "            accuracy = 100 * correct / total\n",
        "            loss_list.append(loss.item())\n",
        "            iteration_list.append(epoch * len(train_loader) + i)\n",
        "            accuracy_list.append(accuracy)\n",
        "\n",
        "            print(f\"Epoch [{epoch+1}/{num_epochs}], Step [{i+1}/{len(train_loader)}], Loss: {loss.item():.4f}, Accuracy: {accuracy:.2f}%\")\n",
        "\n",
        "            model.train()  # Switch back to training mode\n",
        "\n",
        "# ===============================\n",
        "# ✅ Step 6: Evaluate Model Accuracy\n",
        "# ===============================\n",
        "model.eval()\n",
        "correct, total = 0, 0\n",
        "\n",
        "with torch.no_grad():\n",
        "    for images, labels in test_loader:\n",
        "        images, labels = images.to(device), labels.to(device)\n",
        "        images = images.view(-1, 28, 28)  # Reshape for LSTM\n",
        "        outputs = model(images)\n",
        "\n",
        "        predicted = torch.argmax(outputs, dim=1)\n",
        "        total += labels.size(0)\n",
        "        correct += (predicted == labels).sum().item()\n",
        "\n",
        "accuracy = 100 * correct / total\n",
        "print(f\"\\n🔥 Final Test Accuracy: {accuracy:.2f}% 🔥\")"
      ]
    },
    {
      "cell_type": "code",
      "execution_count": 43,
      "metadata": {
        "colab": {
          "base_uri": "https://localhost:8080/",
          "height": 957
        },
        "id": "uoskPO1da0jm",
        "outputId": "75de8c70-5724-4a14-a877-c75c085f407a"
      },
      "outputs": [
        {
          "data": {
            "image/png": "[encoded data removed]",
            "text/plain": [
              "<Figure size 1000x500 with 1 Axes>"
            ]
          },
          "metadata": {},
          "output_type": "display_data"
        },
        {
          "data": {
            "image/png": "[encoded data removed]",
            "text/plain": [
              "<Figure size 1000x500 with 1 Axes>"
            ]
          },
          "metadata": {},
          "output_type": "display_data"
        }
      ],
      "source": [
        "# Plot Loss Curve\n",
        "plt.figure(figsize=(10, 5))\n",
        "plt.plot(iteration_list, loss_list, label=\"Training Loss\", color=\"red\")\n",
        "plt.xlabel(\"Iterations\")\n",
        "plt.ylabel(\"Loss\")\n",
        "plt.title(\"Training Loss Curve\")\n",
        "plt.legend()\n",
        "plt.grid()\n",
        "plt.show()\n",
        "\n",
        "# Plot Accuracy\n",
        "plt.figure(figsize=(10, 5))\n",
        "plt.plot(range(1, len(accuracy_list) + 1), accuracy_list, label=\"Test Accuracy\", marker=\"o\", linestyle=\"-\", color=\"blue\")\n",
        "plt.xlabel(\"Epochs\")\n",
        "plt.ylabel(\"Accuracy (%)\")\n",
        "plt.title(\"Test Accuracy Over Epochs\")\n",
        "plt.legend()\n",
        "plt.grid()\n",
        "plt.show()"
      ]
    }
  ],
  "metadata": {
    "colab": {
      "provenance": []
    },
    "kernelspec": {
      "display_name": "Python 3",
      "name": "python3"
    },
    "language_info": {
      "name": "python"
    }
  },
  "nbformat": 4,
  "nbformat_minor": 0
}
